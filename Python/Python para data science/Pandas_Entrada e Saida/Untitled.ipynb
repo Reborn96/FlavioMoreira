{
 "cells": [
  {
   "cell_type": "code",
   "execution_count": null,
   "id": "5cf18479",
   "metadata": {},
   "outputs": [],
   "source": [
    "from sqlalchemy import create_engine, MetaData, Table, inspect # adicionando o método inspect\n",
    "\n",
    "engine = create_engine('sqlite:///:memory:')\n",
    "engine\n",
    "type(engine)\n",
    "\n",
    "matriculas_por_curso.to_sql('matriculas', engine)\n",
    "\n",
    "inspector = inspect(engine) # criando um Inspector object\n",
    "print(inspector.get_table_names()) # Exibindo as tabelas com o inspecto"
   ]
  }
 ],
 "metadata": {
  "kernelspec": {
   "display_name": "Python 3 (ipykernel)",
   "language": "python",
   "name": "python3"
  },
  "language_info": {
   "codemirror_mode": {
    "name": "ipython",
    "version": 3
   },
   "file_extension": ".py",
   "mimetype": "text/x-python",
   "name": "python",
   "nbconvert_exporter": "python",
   "pygments_lexer": "ipython3",
   "version": "3.9.12"
  }
 },
 "nbformat": 4,
 "nbformat_minor": 5
}
