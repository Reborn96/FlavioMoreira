{
 "cells": [
  {
   "cell_type": "markdown",
   "id": "c06e6e09",
   "metadata": {},
   "source": [
    "# Relatório de análise II"
   ]
  },
  {
   "cell_type": "markdown",
   "id": "a049b7b6",
   "metadata": {},
   "source": [
    "## Tipos de imóveis"
   ]
  },
  {
   "cell_type": "code",
   "execution_count": 4,
   "id": "30fa1cee",
   "metadata": {},
   "outputs": [
    {
     "name": "stdout",
     "output_type": "stream",
     "text": [
      "Pandas importado com sucesso!\n"
     ]
    }
   ],
   "source": [
    "import pandas as pd \n",
    "print('Pandas importado com sucesso!')"
   ]
  },
  {
   "cell_type": "code",
   "execution_count": 10,
   "id": "44c9e82e",
   "metadata": {},
   "outputs": [
    {
     "data": {
      "text/html": [
       "<div>\n",
       "<style scoped>\n",
       "    .dataframe tbody tr th:only-of-type {\n",
       "        vertical-align: middle;\n",
       "    }\n",
       "\n",
       "    .dataframe tbody tr th {\n",
       "        vertical-align: top;\n",
       "    }\n",
       "\n",
       "    .dataframe thead th {\n",
       "        text-align: right;\n",
       "    }\n",
       "</style>\n",
       "<table border=\"1\" class=\"dataframe\">\n",
       "  <thead>\n",
       "    <tr style=\"text-align: right;\">\n",
       "      <th></th>\n",
       "      <th>Tipo</th>\n",
       "      <th>Bairro</th>\n",
       "      <th>Quartos</th>\n",
       "      <th>Vagas</th>\n",
       "      <th>Suites</th>\n",
       "      <th>Area</th>\n",
       "      <th>Valor</th>\n",
       "      <th>Condominio</th>\n",
       "      <th>IPTU</th>\n",
       "      <th>Valor m2</th>\n",
       "      <th>Tipo Agregado</th>\n",
       "    </tr>\n",
       "  </thead>\n",
       "  <tbody>\n",
       "    <tr>\n",
       "      <th>0</th>\n",
       "      <td>Apartamento</td>\n",
       "      <td>Centro</td>\n",
       "      <td>1</td>\n",
       "      <td>0</td>\n",
       "      <td>0</td>\n",
       "      <td>15</td>\n",
       "      <td>800.0</td>\n",
       "      <td>390.0</td>\n",
       "      <td>20.0</td>\n",
       "      <td>53.33</td>\n",
       "      <td>Apartamento</td>\n",
       "    </tr>\n",
       "    <tr>\n",
       "      <th>1</th>\n",
       "      <td>Apartamento</td>\n",
       "      <td>Higienópolis</td>\n",
       "      <td>1</td>\n",
       "      <td>0</td>\n",
       "      <td>0</td>\n",
       "      <td>48</td>\n",
       "      <td>800.0</td>\n",
       "      <td>230.0</td>\n",
       "      <td>0.0</td>\n",
       "      <td>16.67</td>\n",
       "      <td>Apartamento</td>\n",
       "    </tr>\n",
       "    <tr>\n",
       "      <th>2</th>\n",
       "      <td>Apartamento</td>\n",
       "      <td>Cachambi</td>\n",
       "      <td>2</td>\n",
       "      <td>0</td>\n",
       "      <td>0</td>\n",
       "      <td>50</td>\n",
       "      <td>1300.0</td>\n",
       "      <td>301.0</td>\n",
       "      <td>17.0</td>\n",
       "      <td>26.00</td>\n",
       "      <td>Apartamento</td>\n",
       "    </tr>\n",
       "    <tr>\n",
       "      <th>3</th>\n",
       "      <td>Apartamento</td>\n",
       "      <td>Grajaú</td>\n",
       "      <td>2</td>\n",
       "      <td>1</td>\n",
       "      <td>0</td>\n",
       "      <td>70</td>\n",
       "      <td>1500.0</td>\n",
       "      <td>642.0</td>\n",
       "      <td>74.0</td>\n",
       "      <td>21.43</td>\n",
       "      <td>Apartamento</td>\n",
       "    </tr>\n",
       "    <tr>\n",
       "      <th>4</th>\n",
       "      <td>Apartamento</td>\n",
       "      <td>Lins de Vasconcelos</td>\n",
       "      <td>3</td>\n",
       "      <td>1</td>\n",
       "      <td>1</td>\n",
       "      <td>90</td>\n",
       "      <td>1500.0</td>\n",
       "      <td>455.0</td>\n",
       "      <td>14.0</td>\n",
       "      <td>16.67</td>\n",
       "      <td>Apartamento</td>\n",
       "    </tr>\n",
       "    <tr>\n",
       "      <th>5</th>\n",
       "      <td>Apartamento</td>\n",
       "      <td>Copacabana</td>\n",
       "      <td>1</td>\n",
       "      <td>0</td>\n",
       "      <td>1</td>\n",
       "      <td>40</td>\n",
       "      <td>2000.0</td>\n",
       "      <td>561.0</td>\n",
       "      <td>50.0</td>\n",
       "      <td>50.00</td>\n",
       "      <td>Apartamento</td>\n",
       "    </tr>\n",
       "    <tr>\n",
       "      <th>6</th>\n",
       "      <td>Apartamento</td>\n",
       "      <td>Freguesia (Jacarepaguá)</td>\n",
       "      <td>3</td>\n",
       "      <td>0</td>\n",
       "      <td>0</td>\n",
       "      <td>54</td>\n",
       "      <td>950.0</td>\n",
       "      <td>300.0</td>\n",
       "      <td>28.0</td>\n",
       "      <td>17.59</td>\n",
       "      <td>Apartamento</td>\n",
       "    </tr>\n",
       "    <tr>\n",
       "      <th>7</th>\n",
       "      <td>Apartamento</td>\n",
       "      <td>Barra da Tijuca</td>\n",
       "      <td>2</td>\n",
       "      <td>1</td>\n",
       "      <td>1</td>\n",
       "      <td>67</td>\n",
       "      <td>1700.0</td>\n",
       "      <td>589.0</td>\n",
       "      <td>147.0</td>\n",
       "      <td>25.37</td>\n",
       "      <td>Apartamento</td>\n",
       "    </tr>\n",
       "    <tr>\n",
       "      <th>8</th>\n",
       "      <td>Apartamento</td>\n",
       "      <td>Tijuca</td>\n",
       "      <td>2</td>\n",
       "      <td>1</td>\n",
       "      <td>0</td>\n",
       "      <td>110</td>\n",
       "      <td>1900.0</td>\n",
       "      <td>700.0</td>\n",
       "      <td>138.0</td>\n",
       "      <td>17.27</td>\n",
       "      <td>Apartamento</td>\n",
       "    </tr>\n",
       "    <tr>\n",
       "      <th>9</th>\n",
       "      <td>Apartamento</td>\n",
       "      <td>Olaria</td>\n",
       "      <td>3</td>\n",
       "      <td>1</td>\n",
       "      <td>0</td>\n",
       "      <td>68</td>\n",
       "      <td>1000.0</td>\n",
       "      <td>670.0</td>\n",
       "      <td>0.0</td>\n",
       "      <td>14.71</td>\n",
       "      <td>Apartamento</td>\n",
       "    </tr>\n",
       "  </tbody>\n",
       "</table>\n",
       "</div>"
      ],
      "text/plain": [
       "          Tipo                   Bairro  Quartos  Vagas  Suites  Area   Valor  \\\n",
       "0  Apartamento                   Centro        1      0       0    15   800.0   \n",
       "1  Apartamento             Higienópolis        1      0       0    48   800.0   \n",
       "2  Apartamento                 Cachambi        2      0       0    50  1300.0   \n",
       "3  Apartamento                   Grajaú        2      1       0    70  1500.0   \n",
       "4  Apartamento      Lins de Vasconcelos        3      1       1    90  1500.0   \n",
       "5  Apartamento               Copacabana        1      0       1    40  2000.0   \n",
       "6  Apartamento  Freguesia (Jacarepaguá)        3      0       0    54   950.0   \n",
       "7  Apartamento          Barra da Tijuca        2      1       1    67  1700.0   \n",
       "8  Apartamento                   Tijuca        2      1       0   110  1900.0   \n",
       "9  Apartamento                   Olaria        3      1       0    68  1000.0   \n",
       "\n",
       "   Condominio   IPTU  Valor m2 Tipo Agregado  \n",
       "0       390.0   20.0     53.33   Apartamento  \n",
       "1       230.0    0.0     16.67   Apartamento  \n",
       "2       301.0   17.0     26.00   Apartamento  \n",
       "3       642.0   74.0     21.43   Apartamento  \n",
       "4       455.0   14.0     16.67   Apartamento  \n",
       "5       561.0   50.0     50.00   Apartamento  \n",
       "6       300.0   28.0     17.59   Apartamento  \n",
       "7       589.0  147.0     25.37   Apartamento  \n",
       "8       700.0  138.0     17.27   Apartamento  \n",
       "9       670.0    0.0     14.71   Apartamento  "
      ]
     },
     "execution_count": 10,
     "metadata": {},
     "output_type": "execute_result"
    }
   ],
   "source": [
    "dados = pd.read_csv('dados/aluguel.csv', sep = ';')\n",
    "dados.head(10) #visualizar os 10 primeiros itens\n"
   ]
  },
  {
   "cell_type": "code",
   "execution_count": 11,
   "id": "0aa7863b",
   "metadata": {},
   "outputs": [
    {
     "data": {
      "text/plain": [
       "0        Apartamento\n",
       "1        Apartamento\n",
       "2        Apartamento\n",
       "3        Apartamento\n",
       "4        Apartamento\n",
       "            ...     \n",
       "19826      Quitinete\n",
       "19827      Quitinete\n",
       "19828      Quitinete\n",
       "19829      Quitinete\n",
       "19830      Quitinete\n",
       "Name: Tipo, Length: 19831, dtype: object"
      ]
     },
     "execution_count": 11,
     "metadata": {},
     "output_type": "execute_result"
    }
   ],
   "source": [
    "dados['Tipo'] #verificar somente as entradas com o rótulo 'Tipo'"
   ]
  },
  {
   "cell_type": "code",
   "execution_count": 21,
   "id": "cac5ee67",
   "metadata": {},
   "outputs": [
    {
     "data": {
      "text/plain": [
       "pandas.core.series.Series"
      ]
     },
     "execution_count": 21,
     "metadata": {},
     "output_type": "execute_result"
    }
   ],
   "source": [
    "tipodeimovel = dados['Tipo'] #Criando uma variável editável\n",
    "type(tipodeimovel)"
   ]
  },
  {
   "cell_type": "code",
   "execution_count": 23,
   "id": "1e045069",
   "metadata": {},
   "outputs": [
    {
     "data": {
      "text/plain": [
       "0               Apartamento\n",
       "16923                  Casa\n",
       "17821    Casa de Condomínio\n",
       "18785          Casa de Vila\n",
       "19018             Quitinete\n",
       "Name: Tipo, dtype: object"
      ]
     },
     "execution_count": 23,
     "metadata": {},
     "output_type": "execute_result"
    }
   ],
   "source": [
    "tipodeimovel.drop_duplicates()#Tirando duplicatas, mas sem salvar"
   ]
  },
  {
   "cell_type": "code",
   "execution_count": 24,
   "id": "12175e40",
   "metadata": {},
   "outputs": [
    {
     "data": {
      "text/plain": [
       "0        Apartamento\n",
       "1        Apartamento\n",
       "2        Apartamento\n",
       "3        Apartamento\n",
       "4        Apartamento\n",
       "            ...     \n",
       "19826      Quitinete\n",
       "19827      Quitinete\n",
       "19828      Quitinete\n",
       "19829      Quitinete\n",
       "19830      Quitinete\n",
       "Name: Tipo, Length: 19831, dtype: object"
      ]
     },
     "execution_count": 24,
     "metadata": {},
     "output_type": "execute_result"
    }
   ],
   "source": [
    "tipodeimovel #confirmando que não foi salvo"
   ]
  },
  {
   "cell_type": "code",
   "execution_count": 54,
   "id": "e51c859a",
   "metadata": {},
   "outputs": [
    {
     "data": {
      "text/plain": [
       "5"
      ]
     },
     "execution_count": 54,
     "metadata": {},
     "output_type": "execute_result"
    }
   ],
   "source": [
    "tipodeimovel.drop_duplicates(inplace = True) #com inplace existe a subsituição definitiva\n",
    "tipodeimovel\n",
    "(tipodeimovel.shape[0])"
   ]
  },
  {
   "cell_type": "markdown",
   "id": "935eaafc",
   "metadata": {},
   "source": [
    "## Organizando a visualização"
   ]
  },
  {
   "cell_type": "code",
   "execution_count": 28,
   "id": "09d1b30f",
   "metadata": {},
   "outputs": [
    {
     "data": {
      "text/html": [
       "<div>\n",
       "<style scoped>\n",
       "    .dataframe tbody tr th:only-of-type {\n",
       "        vertical-align: middle;\n",
       "    }\n",
       "\n",
       "    .dataframe tbody tr th {\n",
       "        vertical-align: top;\n",
       "    }\n",
       "\n",
       "    .dataframe thead th {\n",
       "        text-align: right;\n",
       "    }\n",
       "</style>\n",
       "<table border=\"1\" class=\"dataframe\">\n",
       "  <thead>\n",
       "    <tr style=\"text-align: right;\">\n",
       "      <th></th>\n",
       "      <th>Tipo</th>\n",
       "    </tr>\n",
       "  </thead>\n",
       "  <tbody>\n",
       "    <tr>\n",
       "      <th>0</th>\n",
       "      <td>Apartamento</td>\n",
       "    </tr>\n",
       "    <tr>\n",
       "      <th>16923</th>\n",
       "      <td>Casa</td>\n",
       "    </tr>\n",
       "    <tr>\n",
       "      <th>17821</th>\n",
       "      <td>Casa de Condomínio</td>\n",
       "    </tr>\n",
       "    <tr>\n",
       "      <th>18785</th>\n",
       "      <td>Casa de Vila</td>\n",
       "    </tr>\n",
       "    <tr>\n",
       "      <th>19018</th>\n",
       "      <td>Quitinete</td>\n",
       "    </tr>\n",
       "  </tbody>\n",
       "</table>\n",
       "</div>"
      ],
      "text/plain": [
       "                     Tipo\n",
       "0             Apartamento\n",
       "16923                Casa\n",
       "17821  Casa de Condomínio\n",
       "18785        Casa de Vila\n",
       "19018           Quitinete"
      ]
     },
     "execution_count": 28,
     "metadata": {},
     "output_type": "execute_result"
    }
   ],
   "source": [
    "tipodeimovel = pd.DataFrame(tipodeimovel)#convertendo em dataframe\n",
    "tipodeimovel"
   ]
  },
  {
   "cell_type": "code",
   "execution_count": 53,
   "id": "18c27208",
   "metadata": {},
   "outputs": [
    {
     "data": {
      "text/plain": [
       "RangeIndex(start=0, stop=5, step=1)"
      ]
     },
     "execution_count": 53,
     "metadata": {},
     "output_type": "execute_result"
    }
   ],
   "source": [
    "tipodeimovel.index#ele só elimina valores duplicados, então mantem o index antigo, .index verifica index atual"
   ]
  },
  {
   "cell_type": "code",
   "execution_count": 52,
   "id": "394f7866",
   "metadata": {},
   "outputs": [
    {
     "data": {
      "text/plain": [
       "range(0, 5)"
      ]
     },
     "execution_count": 52,
     "metadata": {},
     "output_type": "execute_result"
    }
   ],
   "source": [
    "range(tipodeimovel.shape[0]) #serve só para verificar número de itens"
   ]
  },
  {
   "cell_type": "code",
   "execution_count": 41,
   "id": "9760b34b",
   "metadata": {},
   "outputs": [
    {
     "name": "stdout",
     "output_type": "stream",
     "text": [
      "0\n",
      "1\n",
      "2\n",
      "3\n",
      "4\n"
     ]
    }
   ],
   "source": [
    "for i in range(tipodeimovel.shape[0]):#Acho que é só para lembrar que o index começa do 0\n",
    "    print(i)"
   ]
  },
  {
   "cell_type": "code",
   "execution_count": 45,
   "id": "9bead464",
   "metadata": {},
   "outputs": [
    {
     "data": {
      "text/html": [
       "<div>\n",
       "<style scoped>\n",
       "    .dataframe tbody tr th:only-of-type {\n",
       "        vertical-align: middle;\n",
       "    }\n",
       "\n",
       "    .dataframe tbody tr th {\n",
       "        vertical-align: top;\n",
       "    }\n",
       "\n",
       "    .dataframe thead th {\n",
       "        text-align: right;\n",
       "    }\n",
       "</style>\n",
       "<table border=\"1\" class=\"dataframe\">\n",
       "  <thead>\n",
       "    <tr style=\"text-align: right;\">\n",
       "      <th></th>\n",
       "      <th>Tipo</th>\n",
       "    </tr>\n",
       "  </thead>\n",
       "  <tbody>\n",
       "    <tr>\n",
       "      <th>0</th>\n",
       "      <td>Apartamento</td>\n",
       "    </tr>\n",
       "    <tr>\n",
       "      <th>1</th>\n",
       "      <td>Casa</td>\n",
       "    </tr>\n",
       "    <tr>\n",
       "      <th>2</th>\n",
       "      <td>Casa de Condomínio</td>\n",
       "    </tr>\n",
       "    <tr>\n",
       "      <th>3</th>\n",
       "      <td>Casa de Vila</td>\n",
       "    </tr>\n",
       "    <tr>\n",
       "      <th>4</th>\n",
       "      <td>Quitinete</td>\n",
       "    </tr>\n",
       "  </tbody>\n",
       "</table>\n",
       "</div>"
      ],
      "text/plain": [
       "                 Tipo\n",
       "0         Apartamento\n",
       "1                Casa\n",
       "2  Casa de Condomínio\n",
       "3        Casa de Vila\n",
       "4           Quitinete"
      ]
     },
     "execution_count": 45,
     "metadata": {},
     "output_type": "execute_result"
    }
   ],
   "source": [
    "tipodeimovel.index = range(tipodeimovel.shape[0])#interessante isso, basicamente falam como deve ser montado o index, o .shape serve para delimitar a ponta direita do index\n",
    "tipodeimovel\n"
   ]
  },
  {
   "cell_type": "code",
   "execution_count": 56,
   "id": "9b78fea3",
   "metadata": {},
   "outputs": [
    {
     "data": {
      "text/plain": [
       "pandas.core.frame.DataFrame"
      ]
     },
     "execution_count": 56,
     "metadata": {},
     "output_type": "execute_result"
    }
   ],
   "source": [
    "tipodeimovel.index #conferindo\n",
    "type(tipodeimovel)"
   ]
  },
  {
   "cell_type": "code",
   "execution_count": 55,
   "id": "052a6c60",
   "metadata": {},
   "outputs": [
    {
     "data": {
      "text/html": [
       "<div>\n",
       "<style scoped>\n",
       "    .dataframe tbody tr th:only-of-type {\n",
       "        vertical-align: middle;\n",
       "    }\n",
       "\n",
       "    .dataframe tbody tr th {\n",
       "        vertical-align: top;\n",
       "    }\n",
       "\n",
       "    .dataframe thead th {\n",
       "        text-align: right;\n",
       "    }\n",
       "</style>\n",
       "<table border=\"1\" class=\"dataframe\">\n",
       "  <thead>\n",
       "    <tr style=\"text-align: right;\">\n",
       "      <th>Cód</th>\n",
       "      <th>Tipo</th>\n",
       "    </tr>\n",
       "  </thead>\n",
       "  <tbody>\n",
       "    <tr>\n",
       "      <th>0</th>\n",
       "      <td>Apartamento</td>\n",
       "    </tr>\n",
       "    <tr>\n",
       "      <th>1</th>\n",
       "      <td>Casa</td>\n",
       "    </tr>\n",
       "    <tr>\n",
       "      <th>2</th>\n",
       "      <td>Casa de Condomínio</td>\n",
       "    </tr>\n",
       "    <tr>\n",
       "      <th>3</th>\n",
       "      <td>Casa de Vila</td>\n",
       "    </tr>\n",
       "    <tr>\n",
       "      <th>4</th>\n",
       "      <td>Quitinete</td>\n",
       "    </tr>\n",
       "  </tbody>\n",
       "</table>\n",
       "</div>"
      ],
      "text/plain": [
       "Cód                Tipo\n",
       "0           Apartamento\n",
       "1                  Casa\n",
       "2    Casa de Condomínio\n",
       "3          Casa de Vila\n",
       "4             Quitinete"
      ]
     },
     "execution_count": 55,
     "metadata": {},
     "output_type": "execute_result"
    }
   ],
   "source": [
    "tipodeimovel.columns.name = 'Cód' #Mudando o nome da coluna do index\n",
    "tipodeimovel"
   ]
  }
 ],
 "metadata": {
  "kernelspec": {
   "display_name": "Python 3 (ipykernel)",
   "language": "python",
   "name": "python3"
  },
  "language_info": {
   "codemirror_mode": {
    "name": "ipython",
    "version": 3
   },
   "file_extension": ".py",
   "mimetype": "text/x-python",
   "name": "python",
   "nbconvert_exporter": "python",
   "pygments_lexer": "ipython3",
   "version": "3.9.12"
  }
 },
 "nbformat": 4,
 "nbformat_minor": 5
}
