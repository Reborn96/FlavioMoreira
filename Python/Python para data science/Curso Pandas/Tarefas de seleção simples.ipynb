{
 "cells": [
  {
   "cell_type": "markdown",
   "id": "f7a77f1f",
   "metadata": {},
   "source": [
    "# Relatório IV"
   ]
  },
  {
   "cell_type": "markdown",
   "id": "d3c769b9",
   "metadata": {},
   "source": [
    "## Seleções e frequências"
   ]
  },
  {
   "cell_type": "code",
   "execution_count": null,
   "id": "7174525b",
   "metadata": {},
   "outputs": [],
   "source": [
    "#Tarefa\n",
    "#Selecione somente os imóveis classificados com tipo 'Apartamento'., mudei pq apaguei aptos anteriormente\n",
    "\n",
    "#Selecione os imóveis classificados com tipos 'Casa', 'Casa de Condomínio' e 'Casa de Vila'.\n",
    "\n",
    "#Selecione os imóveis com área entre 60 e 100 metros quadrados, incluindo os limites.\n",
    "\n",
    "#Selecione os imóveis que tenham pelo menos 4 quartos e aluguel menor que R$ 2.000,00."
   ]
  },
  {
   "cell_type": "code",
   "execution_count": 2,
   "id": "da8579ab",
   "metadata": {},
   "outputs": [
    {
     "name": "stdout",
     "output_type": "stream",
     "text": [
      "Pandas importado com sucesso...\n"
     ]
    }
   ],
   "source": [
    "import pandas as pd\n",
    "print('Pandas importado com sucesso...')"
   ]
  },
  {
   "cell_type": "code",
   "execution_count": 7,
   "id": "59f9bec3",
   "metadata": {},
   "outputs": [
    {
     "data": {
      "text/html": [
       "<div>\n",
       "<style scoped>\n",
       "    .dataframe tbody tr th:only-of-type {\n",
       "        vertical-align: middle;\n",
       "    }\n",
       "\n",
       "    .dataframe tbody tr th {\n",
       "        vertical-align: top;\n",
       "    }\n",
       "\n",
       "    .dataframe thead th {\n",
       "        text-align: right;\n",
       "    }\n",
       "</style>\n",
       "<table border=\"1\" class=\"dataframe\">\n",
       "  <thead>\n",
       "    <tr style=\"text-align: right;\">\n",
       "      <th></th>\n",
       "      <th>Tipo</th>\n",
       "      <th>Bairro</th>\n",
       "      <th>Quartos</th>\n",
       "      <th>Vagas</th>\n",
       "      <th>Suites</th>\n",
       "      <th>Area</th>\n",
       "      <th>Valor</th>\n",
       "      <th>Condominio</th>\n",
       "      <th>IPTU</th>\n",
       "      <th>Valor m2</th>\n",
       "      <th>Tipo Agregado</th>\n",
       "    </tr>\n",
       "  </thead>\n",
       "  <tbody>\n",
       "    <tr>\n",
       "      <th>0</th>\n",
       "      <td>Casa</td>\n",
       "      <td>Jardim Botânico</td>\n",
       "      <td>2</td>\n",
       "      <td>0</td>\n",
       "      <td>1</td>\n",
       "      <td>100</td>\n",
       "      <td>7000.0</td>\n",
       "      <td>0.0</td>\n",
       "      <td>0.0</td>\n",
       "      <td>70.00</td>\n",
       "      <td>Casa</td>\n",
       "    </tr>\n",
       "    <tr>\n",
       "      <th>1</th>\n",
       "      <td>Casa</td>\n",
       "      <td>Campo Grande</td>\n",
       "      <td>4</td>\n",
       "      <td>1</td>\n",
       "      <td>2</td>\n",
       "      <td>400</td>\n",
       "      <td>12000.0</td>\n",
       "      <td>0.0</td>\n",
       "      <td>0.0</td>\n",
       "      <td>30.00</td>\n",
       "      <td>Casa</td>\n",
       "    </tr>\n",
       "    <tr>\n",
       "      <th>2</th>\n",
       "      <td>Casa</td>\n",
       "      <td>Méier</td>\n",
       "      <td>2</td>\n",
       "      <td>0</td>\n",
       "      <td>0</td>\n",
       "      <td>51</td>\n",
       "      <td>1500.0</td>\n",
       "      <td>50.0</td>\n",
       "      <td>0.0</td>\n",
       "      <td>29.41</td>\n",
       "      <td>Casa</td>\n",
       "    </tr>\n",
       "    <tr>\n",
       "      <th>3</th>\n",
       "      <td>Casa</td>\n",
       "      <td>Maracanã</td>\n",
       "      <td>8</td>\n",
       "      <td>3</td>\n",
       "      <td>5</td>\n",
       "      <td>259</td>\n",
       "      <td>7000.0</td>\n",
       "      <td>0.0</td>\n",
       "      <td>0.0</td>\n",
       "      <td>27.03</td>\n",
       "      <td>Casa</td>\n",
       "    </tr>\n",
       "    <tr>\n",
       "      <th>4</th>\n",
       "      <td>Casa</td>\n",
       "      <td>Benfica</td>\n",
       "      <td>1</td>\n",
       "      <td>0</td>\n",
       "      <td>0</td>\n",
       "      <td>33</td>\n",
       "      <td>1200.0</td>\n",
       "      <td>0.0</td>\n",
       "      <td>0.0</td>\n",
       "      <td>36.36</td>\n",
       "      <td>Casa</td>\n",
       "    </tr>\n",
       "    <tr>\n",
       "      <th>5</th>\n",
       "      <td>Casa</td>\n",
       "      <td>Jardim Carioca</td>\n",
       "      <td>3</td>\n",
       "      <td>2</td>\n",
       "      <td>1</td>\n",
       "      <td>135</td>\n",
       "      <td>3000.0</td>\n",
       "      <td>0.0</td>\n",
       "      <td>0.0</td>\n",
       "      <td>22.22</td>\n",
       "      <td>Casa</td>\n",
       "    </tr>\n",
       "    <tr>\n",
       "      <th>6</th>\n",
       "      <td>Casa</td>\n",
       "      <td>Lins de Vasconcelos</td>\n",
       "      <td>2</td>\n",
       "      <td>0</td>\n",
       "      <td>0</td>\n",
       "      <td>40</td>\n",
       "      <td>950.0</td>\n",
       "      <td>0.0</td>\n",
       "      <td>50.0</td>\n",
       "      <td>23.75</td>\n",
       "      <td>Casa</td>\n",
       "    </tr>\n",
       "    <tr>\n",
       "      <th>7</th>\n",
       "      <td>Casa</td>\n",
       "      <td>Tijuca</td>\n",
       "      <td>4</td>\n",
       "      <td>1</td>\n",
       "      <td>1</td>\n",
       "      <td>191</td>\n",
       "      <td>4000.0</td>\n",
       "      <td>300.0</td>\n",
       "      <td>0.0</td>\n",
       "      <td>20.94</td>\n",
       "      <td>Casa</td>\n",
       "    </tr>\n",
       "    <tr>\n",
       "      <th>8</th>\n",
       "      <td>Casa</td>\n",
       "      <td>Grajaú</td>\n",
       "      <td>5</td>\n",
       "      <td>4</td>\n",
       "      <td>2</td>\n",
       "      <td>450</td>\n",
       "      <td>7000.0</td>\n",
       "      <td>0.0</td>\n",
       "      <td>500.0</td>\n",
       "      <td>15.56</td>\n",
       "      <td>Casa</td>\n",
       "    </tr>\n",
       "    <tr>\n",
       "      <th>9</th>\n",
       "      <td>Casa</td>\n",
       "      <td>Tanque</td>\n",
       "      <td>2</td>\n",
       "      <td>1</td>\n",
       "      <td>0</td>\n",
       "      <td>59</td>\n",
       "      <td>1200.0</td>\n",
       "      <td>170.0</td>\n",
       "      <td>0.0</td>\n",
       "      <td>20.34</td>\n",
       "      <td>Casa</td>\n",
       "    </tr>\n",
       "  </tbody>\n",
       "</table>\n",
       "</div>"
      ],
      "text/plain": [
       "   Tipo               Bairro  Quartos  Vagas  Suites  Area    Valor  \\\n",
       "0  Casa      Jardim Botânico        2      0       1   100   7000.0   \n",
       "1  Casa         Campo Grande        4      1       2   400  12000.0   \n",
       "2  Casa                Méier        2      0       0    51   1500.0   \n",
       "3  Casa             Maracanã        8      3       5   259   7000.0   \n",
       "4  Casa              Benfica        1      0       0    33   1200.0   \n",
       "5  Casa       Jardim Carioca        3      2       1   135   3000.0   \n",
       "6  Casa  Lins de Vasconcelos        2      0       0    40    950.0   \n",
       "7  Casa               Tijuca        4      1       1   191   4000.0   \n",
       "8  Casa               Grajaú        5      4       2   450   7000.0   \n",
       "9  Casa               Tanque        2      1       0    59   1200.0   \n",
       "\n",
       "   Condominio   IPTU  Valor m2 Tipo Agregado  \n",
       "0         0.0    0.0     70.00          Casa  \n",
       "1         0.0    0.0     30.00          Casa  \n",
       "2        50.0    0.0     29.41          Casa  \n",
       "3         0.0    0.0     27.03          Casa  \n",
       "4         0.0    0.0     36.36          Casa  \n",
       "5         0.0    0.0     22.22          Casa  \n",
       "6         0.0   50.0     23.75          Casa  \n",
       "7       300.0    0.0     20.94          Casa  \n",
       "8         0.0  500.0     15.56          Casa  \n",
       "9       170.0    0.0     20.34          Casa  "
      ]
     },
     "execution_count": 7,
     "metadata": {},
     "output_type": "execute_result"
    }
   ],
   "source": [
    "dados = pd.read_csv('dados/aluguel_residencial.csv',sep = ';')\n",
    "dados.head(10)"
   ]
  },
  {
   "cell_type": "code",
   "execution_count": 13,
   "id": "118a0180",
   "metadata": {},
   "outputs": [
    {
     "data": {
      "text/plain": [
       "898"
      ]
     },
     "execution_count": 13,
     "metadata": {},
     "output_type": "execute_result"
    }
   ],
   "source": [
    "#Selecione somente os imóveis classificados com tipo 'Casa'.-> modifiquei pq removi apto anteriomente\n",
    "casa = dados['Tipo'] == 'Casa'\n",
    "casa\n",
    "n1 = dados[casa].shape[0]\n",
    "n1"
   ]
  },
  {
   "cell_type": "code",
   "execution_count": 20,
   "id": "c154931e",
   "metadata": {},
   "outputs": [
    {
     "data": {
      "text/plain": [
       "2095"
      ]
     },
     "execution_count": 20,
     "metadata": {},
     "output_type": "execute_result"
    }
   ],
   "source": [
    "#Selecione os imóveis classificados com tipos 'Casa', 'Casa de Condomínio' e 'Casa de Vila'.\n",
    "sel = (dados['Tipo'] == 'Casa')| (dados['Tipo'] == 'Casa de Condomínio')| (dados['Tipo'] == 'Casa de Vila')#usamos | como 'or'\n",
    "sel\n",
    "n2 = dados[sel].shape[0]\n",
    "n2"
   ]
  },
  {
   "cell_type": "code",
   "execution_count": 29,
   "id": "7b902c62",
   "metadata": {},
   "outputs": [
    {
     "data": {
      "text/plain": [
       "483"
      ]
     },
     "execution_count": 29,
     "metadata": {},
     "output_type": "execute_result"
    }
   ],
   "source": [
    "#Selecione os imóveis com área entre 60 e 100 metros quadrados, incluindo os limites.\n",
    "sel2 = (dados['Area'] >= 60) & (dados['Area'] <= 100)#usamos & como 'and'\n",
    "sel2\n",
    "n3 = dados[sel2].shape[0]\n",
    "n3"
   ]
  },
  {
   "cell_type": "code",
   "execution_count": 34,
   "id": "a3bc6931",
   "metadata": {},
   "outputs": [
    {
     "data": {
      "text/plain": [
       "18"
      ]
     },
     "execution_count": 34,
     "metadata": {},
     "output_type": "execute_result"
    }
   ],
   "source": [
    "#Selecione os imóveis que tenham pelo menos 4 quartos e aluguel menor que R$ 2.000,00.\n",
    "sel3 = (dados['Quartos'] >= 4) & (dados['Valor'] < 2000)\n",
    "sel3\n",
    "n4 = dados[sel3].shape[0]\n",
    "n4"
   ]
  },
  {
   "cell_type": "code",
   "execution_count": 40,
   "id": "afde9f97",
   "metadata": {},
   "outputs": [
    {
     "name": "stdout",
     "output_type": "stream",
     "text": [
      "Existem 898 imóveis classificados com tipo 'Apartamento'.\n",
      "Existem 2095 imóveis classificados com tipos 'Casa', 'Casa de Condomínio' e 'Casa de Vila'.\n",
      "Existem 483 imóveis com área entre 60 e 100 metros quadrados, incluindo os limites.\n",
      "Existem 18 imóveis que tenham pelo menos 4 quartos e aluguel menor que R$ 2.000,00.\n"
     ]
    }
   ],
   "source": [
    "print(f\"Existem {n1} imóveis classificados com tipo 'Apartamento'.\")#fazendo graça com o print f'{n1}\n",
    "print(f\"Existem {n2} imóveis classificados com tipos 'Casa', 'Casa de Condomínio' e 'Casa de Vila'.\")\n",
    "print(f\"Existem {n3} imóveis com área entre 60 e 100 metros quadrados, incluindo os limites.\")\n",
    "print(f\"Existem {n4} imóveis que tenham pelo menos 4 quartos e aluguel menor que R$ 2.000,00.\")\n"
   ]
  },
  {
   "cell_type": "code",
   "execution_count": 51,
   "id": "d8778134",
   "metadata": {},
   "outputs": [
    {
     "data": {
      "text/html": [
       "<div>\n",
       "<style scoped>\n",
       "    .dataframe tbody tr th:only-of-type {\n",
       "        vertical-align: middle;\n",
       "    }\n",
       "\n",
       "    .dataframe tbody tr th {\n",
       "        vertical-align: top;\n",
       "    }\n",
       "\n",
       "    .dataframe thead th {\n",
       "        text-align: right;\n",
       "    }\n",
       "</style>\n",
       "<table border=\"1\" class=\"dataframe\">\n",
       "  <thead>\n",
       "    <tr style=\"text-align: right;\">\n",
       "      <th></th>\n",
       "      <th>Nome</th>\n",
       "      <th>Idade</th>\n",
       "      <th>Sexo</th>\n",
       "      <th>Notas</th>\n",
       "      <th>Aprovado</th>\n",
       "    </tr>\n",
       "  </thead>\n",
       "  <tbody>\n",
       "    <tr>\n",
       "      <th>0</th>\n",
       "      <td>Ary</td>\n",
       "      <td>15</td>\n",
       "      <td>M</td>\n",
       "      <td>7.5</td>\n",
       "      <td>True</td>\n",
       "    </tr>\n",
       "    <tr>\n",
       "      <th>3</th>\n",
       "      <td>Beto</td>\n",
       "      <td>32</td>\n",
       "      <td>M</td>\n",
       "      <td>10.0</td>\n",
       "      <td>True</td>\n",
       "    </tr>\n",
       "    <tr>\n",
       "      <th>4</th>\n",
       "      <td>Bruna</td>\n",
       "      <td>42</td>\n",
       "      <td>F</td>\n",
       "      <td>8.2</td>\n",
       "      <td>True</td>\n",
       "    </tr>\n",
       "    <tr>\n",
       "      <th>5</th>\n",
       "      <td>Dara</td>\n",
       "      <td>21</td>\n",
       "      <td>F</td>\n",
       "      <td>7.0</td>\n",
       "      <td>True</td>\n",
       "    </tr>\n",
       "  </tbody>\n",
       "</table>\n",
       "</div>"
      ],
      "text/plain": [
       "    Nome  Idade Sexo  Notas  Aprovado\n",
       "0    Ary     15    M    7.5      True\n",
       "3   Beto     32    M   10.0      True\n",
       "4  Bruna     42    F    8.2      True\n",
       "5   Dara     21    F    7.0      True"
      ]
     },
     "execution_count": 51,
     "metadata": {},
     "output_type": "execute_result"
    }
   ],
   "source": [
    "#tarefa 2, ex 1\n",
    "alunos = pd.DataFrame({'Nome': ['Ary', 'Cátia', 'Denis', 'Beto', 'Bruna', 'Dara', 'Carlos', 'Alice'], \n",
    "                        'Sexo': ['M', 'F', 'M', 'M', 'F', 'F', 'M', 'F'], \n",
    "                        'Idade': [15, 27, 56, 32, 42, 21, 19, 35], \n",
    "                        'Notas': [7.5, 2.5, 5.0, 10, 8.2, 7, 6, 5.6], \n",
    "                        'Aprovado': [True, False, False, True, True, True, False, False]}, \n",
    "                        columns = ['Nome', 'Idade', 'Sexo', 'Notas', 'Aprovado'])\n",
    "ex1 = alunos['Aprovado'] == True\n",
    "alunos[ex1]\n",
    "\n"
   ]
  },
  {
   "cell_type": "code",
   "execution_count": 54,
   "id": "3542821f",
   "metadata": {},
   "outputs": [
    {
     "data": {
      "text/html": [
       "<div>\n",
       "<style scoped>\n",
       "    .dataframe tbody tr th:only-of-type {\n",
       "        vertical-align: middle;\n",
       "    }\n",
       "\n",
       "    .dataframe tbody tr th {\n",
       "        vertical-align: top;\n",
       "    }\n",
       "\n",
       "    .dataframe thead th {\n",
       "        text-align: right;\n",
       "    }\n",
       "</style>\n",
       "<table border=\"1\" class=\"dataframe\">\n",
       "  <thead>\n",
       "    <tr style=\"text-align: right;\">\n",
       "      <th></th>\n",
       "      <th>Nome</th>\n",
       "      <th>Idade</th>\n",
       "      <th>Sexo</th>\n",
       "      <th>Notas</th>\n",
       "      <th>Aprovado</th>\n",
       "    </tr>\n",
       "  </thead>\n",
       "  <tbody>\n",
       "    <tr>\n",
       "      <th>4</th>\n",
       "      <td>Bruna</td>\n",
       "      <td>42</td>\n",
       "      <td>F</td>\n",
       "      <td>8.2</td>\n",
       "      <td>True</td>\n",
       "    </tr>\n",
       "    <tr>\n",
       "      <th>5</th>\n",
       "      <td>Dara</td>\n",
       "      <td>21</td>\n",
       "      <td>F</td>\n",
       "      <td>7.0</td>\n",
       "      <td>True</td>\n",
       "    </tr>\n",
       "  </tbody>\n",
       "</table>\n",
       "</div>"
      ],
      "text/plain": [
       "    Nome  Idade Sexo  Notas  Aprovado\n",
       "4  Bruna     42    F    8.2      True\n",
       "5   Dara     21    F    7.0      True"
      ]
     },
     "execution_count": 54,
     "metadata": {},
     "output_type": "execute_result"
    }
   ],
   "source": [
    "#tarefa 2, ex 2\n",
    "ex2 = (alunos['Aprovado'] == True) & (alunos['Sexo'] == 'F')\n",
    "alunos[ex2]"
   ]
  },
  {
   "cell_type": "code",
   "execution_count": 56,
   "id": "a2bab1b4",
   "metadata": {},
   "outputs": [
    {
     "data": {
      "text/plain": [
       "4"
      ]
     },
     "execution_count": 56,
     "metadata": {},
     "output_type": "execute_result"
    }
   ],
   "source": [
    "#tarefa 2, ex 3\n",
    "ex3 = (alunos['Idade'] < 20) | (alunos['Idade'] > 40)\n",
    "alunos[ex3].shape[0]"
   ]
  }
 ],
 "metadata": {
  "kernelspec": {
   "display_name": "Python 3 (ipykernel)",
   "language": "python",
   "name": "python3"
  },
  "language_info": {
   "codemirror_mode": {
    "name": "ipython",
    "version": 3
   },
   "file_extension": ".py",
   "mimetype": "text/x-python",
   "name": "python",
   "nbconvert_exporter": "python",
   "pygments_lexer": "ipython3",
   "version": "3.9.12"
  }
 },
 "nbformat": 4,
 "nbformat_minor": 5
}
