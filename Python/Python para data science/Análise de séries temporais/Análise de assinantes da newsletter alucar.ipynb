{
 "cells": [
  {
   "cell_type": "markdown",
   "id": "30f3f5a4",
   "metadata": {},
   "source": [
    "# Analisando assinantes da newsletter"
   ]
  },
  {
   "cell_type": "code",
   "execution_count": 1,
   "id": "ccf87cae",
   "metadata": {},
   "outputs": [
    {
     "name": "stdout",
     "output_type": "stream",
     "text": [
      "Bibliotecas importadas com sucesso\n"
     ]
    }
   ],
   "source": [
    "import pandas as pd\n",
    "import seaborn as sns\n",
    "%matplotlib inline\n",
    "import matplotlib\n",
    "from matplotlib import pyplot as plt\n",
    "from pandas.plotting import autocorrelation_plot as aplot#biblioteca utilizada para fazer estudos de correlação\n",
    "sns.set_palette('pastel')#deixando o gráfico com paleta de cores\n",
    "sns.set_style('whitegrid')#deixando fundo branco\n",
    "print('Bibliotecas importadas com sucesso')\n"
   ]
  },
  {
   "cell_type": "code",
   "execution_count": 2,
   "id": "5f048c44",
   "metadata": {},
   "outputs": [
    {
     "data": {
      "text/html": [
       "<div>\n",
       "<style scoped>\n",
       "    .dataframe tbody tr th:only-of-type {\n",
       "        vertical-align: middle;\n",
       "    }\n",
       "\n",
       "    .dataframe tbody tr th {\n",
       "        vertical-align: top;\n",
       "    }\n",
       "\n",
       "    .dataframe thead th {\n",
       "        text-align: right;\n",
       "    }\n",
       "</style>\n",
       "<table border=\"1\" class=\"dataframe\">\n",
       "  <thead>\n",
       "    <tr style=\"text-align: right;\">\n",
       "      <th></th>\n",
       "      <th>mes</th>\n",
       "      <th>assinantes</th>\n",
       "    </tr>\n",
       "  </thead>\n",
       "  <tbody>\n",
       "    <tr>\n",
       "      <th>0</th>\n",
       "      <td>2017-01-31</td>\n",
       "      <td>0</td>\n",
       "    </tr>\n",
       "    <tr>\n",
       "      <th>1</th>\n",
       "      <td>2017-02-28</td>\n",
       "      <td>10</td>\n",
       "    </tr>\n",
       "    <tr>\n",
       "      <th>2</th>\n",
       "      <td>2017-03-31</td>\n",
       "      <td>21</td>\n",
       "    </tr>\n",
       "    <tr>\n",
       "      <th>3</th>\n",
       "      <td>2017-04-30</td>\n",
       "      <td>34</td>\n",
       "    </tr>\n",
       "    <tr>\n",
       "      <th>4</th>\n",
       "      <td>2017-05-31</td>\n",
       "      <td>49</td>\n",
       "    </tr>\n",
       "  </tbody>\n",
       "</table>\n",
       "</div>"
      ],
      "text/plain": [
       "          mes  assinantes\n",
       "0  2017-01-31           0\n",
       "1  2017-02-28          10\n",
       "2  2017-03-31          21\n",
       "3  2017-04-30          34\n",
       "4  2017-05-31          49"
      ]
     },
     "execution_count": 2,
     "metadata": {},
     "output_type": "execute_result"
    }
   ],
   "source": [
    "dados = pd.read_csv('dados/newsletter_alucar.csv',sep=',')\n",
    "dados.head()"
   ]
  },
  {
   "cell_type": "code",
   "execution_count": 3,
   "id": "65a9676f",
   "metadata": {},
   "outputs": [
    {
     "data": {
      "text/plain": [
       "mes           object\n",
       "assinantes     int64\n",
       "dtype: object"
      ]
     },
     "execution_count": 3,
     "metadata": {},
     "output_type": "execute_result"
    }
   ],
   "source": [
    "dados.dtypes"
   ]
  },
  {
   "cell_type": "code",
   "execution_count": 4,
   "id": "c483f6dd",
   "metadata": {},
   "outputs": [
    {
     "data": {
      "text/plain": [
       "mes           0\n",
       "assinantes    0\n",
       "dtype: int64"
      ]
     },
     "execution_count": 4,
     "metadata": {},
     "output_type": "execute_result"
    }
   ],
   "source": [
    "dados.isna().sum()"
   ]
  },
  {
   "cell_type": "code",
   "execution_count": 5,
   "id": "e2e48d1a",
   "metadata": {},
   "outputs": [
    {
     "data": {
      "text/plain": [
       "mes           datetime64[ns]\n",
       "assinantes             int64\n",
       "dtype: object"
      ]
     },
     "execution_count": 5,
     "metadata": {},
     "output_type": "execute_result"
    }
   ],
   "source": [
    "dados['mes'] = pd.to_datetime(dados['mes'])#mudando para forma correta\n",
    "dados.dtypes"
   ]
  },
  {
   "cell_type": "code",
   "execution_count": 6,
   "id": "2458234b",
   "metadata": {},
   "outputs": [
    {
     "data": {
      "text/html": [
       "<div>\n",
       "<style scoped>\n",
       "    .dataframe tbody tr th:only-of-type {\n",
       "        vertical-align: middle;\n",
       "    }\n",
       "\n",
       "    .dataframe tbody tr th {\n",
       "        vertical-align: top;\n",
       "    }\n",
       "\n",
       "    .dataframe thead th {\n",
       "        text-align: right;\n",
       "    }\n",
       "</style>\n",
       "<table border=\"1\" class=\"dataframe\">\n",
       "  <thead>\n",
       "    <tr style=\"text-align: right;\">\n",
       "      <th></th>\n",
       "      <th>mes</th>\n",
       "      <th>assinantes</th>\n",
       "      <th>var</th>\n",
       "    </tr>\n",
       "  </thead>\n",
       "  <tbody>\n",
       "    <tr>\n",
       "      <th>0</th>\n",
       "      <td>2017-01-31</td>\n",
       "      <td>0</td>\n",
       "      <td>NaN</td>\n",
       "    </tr>\n",
       "    <tr>\n",
       "      <th>1</th>\n",
       "      <td>2017-02-28</td>\n",
       "      <td>10</td>\n",
       "      <td>10.0</td>\n",
       "    </tr>\n",
       "    <tr>\n",
       "      <th>2</th>\n",
       "      <td>2017-03-31</td>\n",
       "      <td>21</td>\n",
       "      <td>11.0</td>\n",
       "    </tr>\n",
       "    <tr>\n",
       "      <th>3</th>\n",
       "      <td>2017-04-30</td>\n",
       "      <td>34</td>\n",
       "      <td>13.0</td>\n",
       "    </tr>\n",
       "    <tr>\n",
       "      <th>4</th>\n",
       "      <td>2017-05-31</td>\n",
       "      <td>49</td>\n",
       "      <td>15.0</td>\n",
       "    </tr>\n",
       "  </tbody>\n",
       "</table>\n",
       "</div>"
      ],
      "text/plain": [
       "         mes  assinantes   var\n",
       "0 2017-01-31           0   NaN\n",
       "1 2017-02-28          10  10.0\n",
       "2 2017-03-31          21  11.0\n",
       "3 2017-04-30          34  13.0\n",
       "4 2017-05-31          49  15.0"
      ]
     },
     "execution_count": 6,
     "metadata": {},
     "output_type": "execute_result"
    }
   ],
   "source": [
    "dados['var'] = dados['assinantes'].diff()\n",
    "dados.head()"
   ]
  },
  {
   "cell_type": "code",
   "execution_count": 7,
   "id": "0d2e0272",
   "metadata": {},
   "outputs": [
    {
     "data": {
      "text/html": [
       "<div>\n",
       "<style scoped>\n",
       "    .dataframe tbody tr th:only-of-type {\n",
       "        vertical-align: middle;\n",
       "    }\n",
       "\n",
       "    .dataframe tbody tr th {\n",
       "        vertical-align: top;\n",
       "    }\n",
       "\n",
       "    .dataframe thead th {\n",
       "        text-align: right;\n",
       "    }\n",
       "</style>\n",
       "<table border=\"1\" class=\"dataframe\">\n",
       "  <thead>\n",
       "    <tr style=\"text-align: right;\">\n",
       "      <th></th>\n",
       "      <th>mes</th>\n",
       "      <th>assinantes</th>\n",
       "      <th>var</th>\n",
       "      <th>acel</th>\n",
       "    </tr>\n",
       "  </thead>\n",
       "  <tbody>\n",
       "    <tr>\n",
       "      <th>0</th>\n",
       "      <td>2017-01-31</td>\n",
       "      <td>0</td>\n",
       "      <td>NaN</td>\n",
       "      <td>NaN</td>\n",
       "    </tr>\n",
       "    <tr>\n",
       "      <th>1</th>\n",
       "      <td>2017-02-28</td>\n",
       "      <td>10</td>\n",
       "      <td>10.0</td>\n",
       "      <td>NaN</td>\n",
       "    </tr>\n",
       "    <tr>\n",
       "      <th>2</th>\n",
       "      <td>2017-03-31</td>\n",
       "      <td>21</td>\n",
       "      <td>11.0</td>\n",
       "      <td>1.0</td>\n",
       "    </tr>\n",
       "    <tr>\n",
       "      <th>3</th>\n",
       "      <td>2017-04-30</td>\n",
       "      <td>34</td>\n",
       "      <td>13.0</td>\n",
       "      <td>2.0</td>\n",
       "    </tr>\n",
       "    <tr>\n",
       "      <th>4</th>\n",
       "      <td>2017-05-31</td>\n",
       "      <td>49</td>\n",
       "      <td>15.0</td>\n",
       "      <td>2.0</td>\n",
       "    </tr>\n",
       "  </tbody>\n",
       "</table>\n",
       "</div>"
      ],
      "text/plain": [
       "         mes  assinantes   var  acel\n",
       "0 2017-01-31           0   NaN   NaN\n",
       "1 2017-02-28          10  10.0   NaN\n",
       "2 2017-03-31          21  11.0   1.0\n",
       "3 2017-04-30          34  13.0   2.0\n",
       "4 2017-05-31          49  15.0   2.0"
      ]
     },
     "execution_count": 7,
     "metadata": {},
     "output_type": "execute_result"
    }
   ],
   "source": [
    "dados['acel'] = dados['var'].diff()\n",
    "dados.head()"
   ]
  },
  {
   "cell_type": "code",
   "execution_count": 8,
   "id": "d357b4b2",
   "metadata": {},
   "outputs": [],
   "source": [
    "def plot_comp(x,y1,y2,y3,dataset,titulo):#definindo função\n",
    "    plt.figure(figsize=(16,12))\n",
    "    ax = plt.subplot(3,1,1)\n",
    "    ax.set_title(titulo,fontsize=18,loc='left')\n",
    "    sns.lineplot(x=x,y=y1,data=dataset)\n",
    "    plt.subplot(3,1,2)\n",
    "    sns.lineplot(x=x,y=y2,data=dataset)\n",
    "    plt.subplot(3,1,3)\n",
    "    sns.lineplot(x=x,y=y3,data=dataset)\n",
    "    ax = ax"
   ]
  },
  {
   "cell_type": "code",
   "execution_count": 9,
   "id": "968e0019",
   "metadata": {},
   "outputs": [
    {
     "data": {
      "image/png": "[encoded data removed]",
      "text/plain": [
       "<Figure size 1152x864 with 3 Axes>"
      ]
     },
     "metadata": {},
     "output_type": "display_data"
    }
   ],
   "source": [
    "plot_comp('mes','assinantes','var','acel',dados,'Estudo de assinantes da Newsletter da Alucar')"
   ]
  },
  {
   "cell_type": "code",
   "execution_count": null,
   "id": "7edb9877",
   "metadata": {},
   "outputs": [],
   "source": []
  }
 ],
 "metadata": {
  "kernelspec": {
   "display_name": "Python 3 (ipykernel)",
   "language": "python",
   "name": "python3"
  },
  "language_info": {
   "codemirror_mode": {
    "name": "ipython",
    "version": 3
   },
   "file_extension": ".py",
   "mimetype": "text/x-python",
   "name": "python",
   "nbconvert_exporter": "python",
   "pygments_lexer": "ipython3",
   "version": "3.9.12"
  }
 },
 "nbformat": 4,
 "nbformat_minor": 5
}
