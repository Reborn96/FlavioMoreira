{
 "cells": [
  {
   "cell_type": "markdown",
   "id": "de5ebc4a",
   "metadata": {},
   "source": [
    "# Montando um corretor de texto"
   ]
  },
  {
   "cell_type": "code",
   "execution_count": 1,
   "id": "aae7e845",
   "metadata": {},
   "outputs": [
    {
     "name": "stdout",
     "output_type": "stream",
     "text": [
      "Bibliotecas importadas com sucesso\n"
     ]
    },
    {
     "name": "stderr",
     "output_type": "stream",
     "text": [
      "[nltk_data] Downloading package punkt to\n",
      "[nltk_data]     C:\\Users\\flavi\\AppData\\Roaming\\nltk_data...\n",
      "[nltk_data]   Package punkt is already up-to-date!\n"
     ]
    }
   ],
   "source": [
    "import pandas as pd#não foi necessário na primeira parte\n",
    "import nltk#tokenizador\n",
    "nltk.download('punkt')#necessario para o tokenizador\n",
    "print('Bibliotecas importadas com sucesso')"
   ]
  },
  {
   "cell_type": "markdown",
   "id": "107363c4",
   "metadata": {},
   "source": [
    "## Construindo nossa base de dados"
   ]
  },
  {
   "cell_type": "code",
   "execution_count": 2,
   "id": "46a1cd8b",
   "metadata": {},
   "outputs": [
    {
     "data": {
      "text/plain": [
       "'\\n\\n\\nimagem \\n\\nTemos a seguinte classe que representa um usuário no nosso sistema:\\n\\njava\\n\\nPara salvar um novo usuário, várias validações são feitas, como por exemplo: Ver se o nome só contém letras, [**o CPF só números**] e ver se o usuário possui no mínimo 18 anos. Veja o método que faz essa validação:\\n\\njava \\n\\nSuponha agora que eu tenha outra classe, a classe `Produto`, que contém um atributo nome e eu quero fazer a mesma validação que fiz para o nome do usuário: Ver se só contém letras. E aí? Vou'"
      ]
     },
     "execution_count": 2,
     "metadata": {},
     "output_type": "execute_result"
    }
   ],
   "source": [
    "with open('dados/artigos.txt','r',encoding=\"utf8\") as f:#abrindo sem o pandas(até pq não é um dataframe), importante citar a nossa intenção, no caso 'r' de read, e delimitar o formato de entrada, utf-8(se não dá pau)\n",
    "    artigos = f.read()#definimos anteriomente a variável como f, agora estamos definindo a variável para exportar dessa função, no caso, artigos\n",
    "artigos[:500]"
   ]
  },
  {
   "cell_type": "markdown",
   "id": "e99ee191",
   "metadata": {},
   "source": [
    "#### Precisamos agora separar as palavras do texto para começar a construção, bem como verificar se temos palavras suficientes"
   ]
  },
  {
   "cell_type": "code",
   "execution_count": 3,
   "id": "6e4b1905",
   "metadata": {},
   "outputs": [
    {
     "data": {
      "text/plain": [
       "['Olá,', 'tudo', 'bem?']"
      ]
     },
     "execution_count": 3,
     "metadata": {},
     "output_type": "execute_result"
    }
   ],
   "source": [
    "texto_exemplo = 'Olá, tudo bem?'\n",
    "tokens = texto_exemplo.split()#um método seria utilizar split, mas ele mantem pontuações e caracteres especiais, não sendo eficiente\n",
    "tokens#importante! esses pedaços de frases são denominados tokens"
   ]
  },
  {
   "cell_type": "code",
   "execution_count": 4,
   "id": "f499c368",
   "metadata": {},
   "outputs": [
    {
     "data": {
      "text/plain": [
       "3"
      ]
     },
     "execution_count": 4,
     "metadata": {},
     "output_type": "execute_result"
    }
   ],
   "source": [
    "len(tokens)#a contagem funciona, mas ainda estamos com caracteres especiais"
   ]
  },
  {
   "cell_type": "code",
   "execution_count": 5,
   "id": "fb38cb1b",
   "metadata": {},
   "outputs": [
    {
     "data": {
      "text/plain": [
       "['Olá', ',', 'tudo', 'bem', '?']"
      ]
     },
     "execution_count": 5,
     "metadata": {},
     "output_type": "execute_result"
    }
   ],
   "source": [
    "palavras_separadas = nltk.tokenize.word_tokenize(texto_exemplo)#função que gera tokens precisos\n",
    "palavras_separadas#dividiu melhor, mas será que eu quero ',' e '?'?"
   ]
  },
  {
   "cell_type": "code",
   "execution_count": 6,
   "id": "6436eeed",
   "metadata": {},
   "outputs": [
    {
     "data": {
      "text/plain": [
       "5"
      ]
     },
     "execution_count": 6,
     "metadata": {},
     "output_type": "execute_result"
    }
   ],
   "source": [
    "len(palavras_separadas)#ele está contando os caracteres como palavras"
   ]
  },
  {
   "cell_type": "code",
   "execution_count": 7,
   "id": "c107d5fc",
   "metadata": {},
   "outputs": [
    {
     "data": {
      "text/plain": [
       "True"
      ]
     },
     "execution_count": 7,
     "metadata": {},
     "output_type": "execute_result"
    }
   ],
   "source": [
    "'palavra'.isalpha()#Essa função retorna se existem caracteres especiais numa lista de caracteres"
   ]
  },
  {
   "cell_type": "code",
   "execution_count": 8,
   "id": "73340e3a",
   "metadata": {},
   "outputs": [
    {
     "data": {
      "text/plain": [
       "False"
      ]
     },
     "execution_count": 8,
     "metadata": {},
     "output_type": "execute_result"
    }
   ],
   "source": [
    "'palavra?'.isalpha()#caso haja"
   ]
  },
  {
   "cell_type": "code",
   "execution_count": 9,
   "id": "3eb0b815",
   "metadata": {},
   "outputs": [],
   "source": [
    "def separa_palavras(lista_de_tokens):#definindo função identificadora\n",
    "    lista_palavras = []\n",
    "    for token in lista_de_tokens:\n",
    "        if token.isalpha():\n",
    "            lista_palavras.append(token)\n",
    "    return lista_palavras"
   ]
  },
  {
   "cell_type": "code",
   "execution_count": 10,
   "id": "34cff7de",
   "metadata": {},
   "outputs": [
    {
     "data": {
      "text/plain": [
       "['Olá', 'tudo', 'bem']"
      ]
     },
     "execution_count": 10,
     "metadata": {},
     "output_type": "execute_result"
    }
   ],
   "source": [
    "separa_palavras(palavras_separadas)#testando"
   ]
  },
  {
   "cell_type": "code",
   "execution_count": 11,
   "id": "3f64d9ff",
   "metadata": {},
   "outputs": [
    {
     "name": "stdout",
     "output_type": "stream",
     "text": [
      "iniciando construção da lista de tokens\n",
      "lista de tokens criada\n",
      "lista de palavras criada\n",
      "O número de palavras no texto artigos é:403031\n",
      "done\n"
     ]
    }
   ],
   "source": [
    "print('iniciando construção da lista de tokens')#demorou pra rodar, criei confirmações para saber onde estava\n",
    "lista_tokens = nltk.tokenize.word_tokenize(artigos)#criando lista de tokens\n",
    "print('lista de tokens criada')\n",
    "lista_palavras = separa_palavras(lista_tokens)#rodando a função\n",
    "print('lista de palavras criada')\n",
    "print(f\"O número de palavras no texto artigos é:{len(lista_palavras)}\")#finalmente!\n",
    "print('done')# levou um tempo para concluir, queria deixar uma confirmação"
   ]
  },
  {
   "cell_type": "code",
   "execution_count": 12,
   "id": "339a3ac3",
   "metadata": {},
   "outputs": [],
   "source": [
    "def normalizacao(lista):#importante deixar todas as palavras em minusculas para realizar uma comparação\n",
    "    lista_normalizada = []\n",
    "    final = len(lista)\n",
    "    contador = 0\n",
    "    c1 = final//4#fazendo aparecer % para saber que não travou\n",
    "    c2 = final//2\n",
    "    c3 = (final//4)*3\n",
    "    c4 = final\n",
    "    print('Iniciando normalização')\n",
    "    for palavra in lista:\n",
    "        lista_normalizada.append(palavra.lower())#adicionando a uma segunda lista tudo em minusculo\n",
    "        contador += 1\n",
    "        if contador == c1:\n",
    "            print('25% concluido...')\n",
    "        if contador == c2:\n",
    "            print('50% concluido...')\n",
    "        if contador == c3:\n",
    "            print('75% concluido...')\n",
    "        if contador == c4:\n",
    "            print('100% concluido!') \n",
    "    return lista_normalizada#retornando em minusculo(normalizado)"
   ]
  },
  {
   "cell_type": "code",
   "execution_count": 13,
   "id": "beb3841e",
   "metadata": {},
   "outputs": [
    {
     "name": "stdout",
     "output_type": "stream",
     "text": [
      "Iniciando normalização\n",
      "25% concluido...\n",
      "50% concluido...\n",
      "75% concluido...\n",
      "100% concluido!\n"
     ]
    }
   ],
   "source": [
    "lista_normalizada = normalizacao(lista_palavras)"
   ]
  },
  {
   "cell_type": "code",
   "execution_count": 14,
   "id": "c7ec8261",
   "metadata": {},
   "outputs": [
    {
     "name": "stdout",
     "output_type": "stream",
     "text": [
      "['imagem', 'temos', 'a', 'seguinte', 'classe', 'que', 'representa', 'um', 'usuário', 'no', 'nosso', 'sistema', 'java', 'para', 'salvar', 'um', 'novo', 'usuário', 'várias', 'validações', 'são', 'feitas', 'como', 'por', 'exemplo', 'ver', 'se', 'o', 'nome', 'só', 'contém', 'letras', 'o', 'cpf', 'só', 'números', 'e', 'ver', 'se', 'o', 'usuário', 'possui', 'no', 'mínimo', 'anos', 'veja', 'o', 'método', 'que', 'faz', 'essa', 'validação', 'java', 'suponha', 'agora', 'que', 'eu', 'tenha', 'outra', 'classe', 'a', 'classe', 'produto', 'que', 'contém', 'um', 'atributo', 'nome', 'e', 'eu', 'quero', 'fazer', 'a', 'mesma', 'validação', 'que', 'fiz', 'para', 'o', 'nome', 'do', 'usuário', 'ver', 'se', 'só', 'contém', 'letras', 'e', 'aí', 'vou', 'criar', 'outro', 'método', 'para', 'fazer', 'a', 'mesma', 'validação', 'ou', 'criar']\n"
     ]
    }
   ],
   "source": [
    "print(lista_normalizada[:100])#funcionou"
   ]
  },
  {
   "cell_type": "code",
   "execution_count": 15,
   "id": "056f07bd",
   "metadata": {},
   "outputs": [
    {
     "data": {
      "text/plain": [
       "{0, 1, 2, 3, 4, 5}"
      ]
     },
     "execution_count": 15,
     "metadata": {},
     "output_type": "execute_result"
    }
   ],
   "source": [
    "set([0,0,0,1,2,3,3,3,3,3,4,5])#função que remove duplicatas, interessante que não usamos o pandas ainda"
   ]
  },
  {
   "cell_type": "code",
   "execution_count": 16,
   "id": "2cc98935",
   "metadata": {},
   "outputs": [
    {
     "name": "stdout",
     "output_type": "stream",
     "text": [
      "Removendo duplicatas\n"
     ]
    },
    {
     "data": {
      "text/plain": [
       "18464"
      ]
     },
     "execution_count": 16,
     "metadata": {},
     "output_type": "execute_result"
    }
   ],
   "source": [
    "print('Removendo duplicatas')#novamente, medo de travar\n",
    "lista_limpa = set(lista_normalizada)#atribuindo uma variável\n",
    "len(lista_limpa)#valor real de palavras unicas no artigo"
   ]
  },
  {
   "cell_type": "markdown",
   "id": "ff3960ff",
   "metadata": {},
   "source": [
    "## Construindo a correção"
   ]
  },
  {
   "cell_type": "markdown",
   "id": "ef58a3ff",
   "metadata": {},
   "source": [
    "#### Primeiro passo é montar um processo eficiente de fatiamento de palavras, para poder inserir caracteres até encontrar o correto"
   ]
  },
  {
   "cell_type": "code",
   "execution_count": 17,
   "id": "f644ccb3",
   "metadata": {},
   "outputs": [
    {
     "data": {
      "text/plain": [
       "('l', 'gica')"
      ]
     },
     "execution_count": 17,
     "metadata": {},
     "output_type": "execute_result"
    }
   ],
   "source": [
    "lista = 'lgica'\n",
    "(lista[:1],lista[1:])#essa função também funciona em strings"
   ]
  },
  {
   "cell_type": "code",
   "execution_count": 18,
   "id": "5f036c9f",
   "metadata": {},
   "outputs": [],
   "source": [
    "def insere_letras(fatias):\n",
    "    novas_palavras = []\n",
    "    letras = 'abcdefghijklmnopqrstuvwxyzàáâãèéêìíîòóôõùúûç'\n",
    "    for E,D in fatias:   #interessante é que escrevendo dessa forma ele já identifica que são 2 valores em cada tupla e coloca no lugar certo\n",
    "        for letra in letras:\n",
    "            nova = str(E)+letra+str(D)\n",
    "            novas_palavras.append(nova)#remontando a palavra\n",
    "    return novas_palavras"
   ]
  },
  {
   "cell_type": "code",
   "execution_count": 51,
   "id": "1d9876fe",
   "metadata": {},
   "outputs": [],
   "source": [
    "exemplo = 'lgica'\n",
    "def gerador_palavras(palavra):\n",
    "    fatias = []\n",
    "    for i in range(len(palavra)+1):#basicamente mudamos o index, e assim mudamos o local de quebra da palabra\n",
    "        fatias.append((palavra[:i],palavra[i:]))#importante adicionar +1, já que o ultimo index não é normalmente pego\n",
    "    palavras_geradas = insere_letras(fatias)\n",
    "    return palavras_geradas"
   ]
  },
  {
   "cell_type": "markdown",
   "id": "4b1f9318",
   "metadata": {},
   "source": [
    "#### Precisamos calcular a probabilidade de uma versão da palavra estar correta"
   ]
  },
  {
   "cell_type": "code",
   "execution_count": 58,
   "id": "f761d8ce",
   "metadata": {},
   "outputs": [
    {
     "data": {
      "text/plain": [
       "[('de', 15502),\n",
       " ('o', 14056),\n",
       " ('que', 12230),\n",
       " ('a', 11099),\n",
       " ('e', 10501),\n",
       " ('para', 7710),\n",
       " ('um', 6367),\n",
       " ('é', 5899),\n",
       " ('uma', 5220),\n",
       " ('do', 5124)]"
      ]
     },
     "execution_count": 58,
     "metadata": {},
     "output_type": "execute_result"
    }
   ],
   "source": [
    "frequencia = nltk.FreqDist(lista_normalizada)#ele calcula quais palavras são mais utilizadas\n",
    "frequencia.most_common(10)"
   ]
  },
  {
   "cell_type": "code",
   "execution_count": 21,
   "id": "c89425a0",
   "metadata": {},
   "outputs": [
    {
     "data": {
      "text/plain": [
       "96"
      ]
     },
     "execution_count": 21,
     "metadata": {},
     "output_type": "execute_result"
    }
   ],
   "source": [
    "frequencia['lógica']#podemos verificar a frequencia de qualquer palavra"
   ]
  },
  {
   "cell_type": "code",
   "execution_count": 22,
   "id": "1287240d",
   "metadata": {},
   "outputs": [
    {
     "data": {
      "text/plain": [
       "'lgica'"
      ]
     },
     "execution_count": 22,
     "metadata": {},
     "output_type": "execute_result"
    }
   ],
   "source": [
    "exemplo"
   ]
  },
  {
   "cell_type": "code",
   "execution_count": 23,
   "id": "307fbd30",
   "metadata": {},
   "outputs": [
    {
     "data": {
      "text/plain": [
       "403031"
      ]
     },
     "execution_count": 23,
     "metadata": {},
     "output_type": "execute_result"
    }
   ],
   "source": [
    "total_palavras = len(lista_normalizada)#visto anteriormente\n",
    "total_palavras"
   ]
  },
  {
   "cell_type": "code",
   "execution_count": 74,
   "id": "4d9ee4ff",
   "metadata": {},
   "outputs": [
    {
     "data": {
      "text/plain": [
       "0.00023819507680550628"
      ]
     },
     "execution_count": 74,
     "metadata": {},
     "output_type": "execute_result"
    }
   ],
   "source": [
    "def prob(palavra_gerada):\n",
    "    return frequencia[palavra_gerada]/403031\n",
    "probabilidade('lógica')#lembrando que total_palavras foi calculado na primeira parte"
   ]
  },
  {
   "cell_type": "code",
   "execution_count": 84,
   "id": "9e47e8a6",
   "metadata": {},
   "outputs": [],
   "source": [
    "def corretor(palavra):\n",
    "    palavras_geradas = gerador_palavras(palavra)#trás a lista de possibilidades de fatiamento\n",
    "    palavra_correta = max(palavras_geradas, key=prob)#escolhe a com maior probabilidade\n",
    "    return palavra_correta#função max pega o maior valor baseado em uma lista dada, no caso a lista dada na função  gerador de palavras"
   ]
  },
  {
   "cell_type": "code",
   "execution_count": 76,
   "id": "c5cadbbc",
   "metadata": {},
   "outputs": [
    {
     "name": "stdout",
     "output_type": "stream",
     "text": [
      "['algica', 'blgica', 'clgica', 'dlgica', 'elgica', 'flgica', 'glgica', 'hlgica', 'ilgica', 'jlgica', 'klgica', 'llgica', 'mlgica', 'nlgica', 'olgica', 'plgica', 'qlgica', 'rlgica', 'slgica', 'tlgica', 'ulgica', 'vlgica', 'wlgica', 'xlgica', 'ylgica', 'zlgica', 'àlgica', 'álgica', 'âlgica', 'ãlgica', 'èlgica', 'élgica', 'êlgica', 'ìlgica', 'ílgica', 'îlgica', 'òlgica', 'ólgica', 'ôlgica', 'õlgica', 'ùlgica', 'úlgica', 'ûlgica', 'çlgica', 'lagica', 'lbgica', 'lcgica', 'ldgica', 'legica', 'lfgica', 'lggica', 'lhgica', 'ligica', 'ljgica', 'lkgica', 'llgica', 'lmgica', 'lngica', 'logica', 'lpgica', 'lqgica', 'lrgica', 'lsgica', 'ltgica', 'lugica', 'lvgica', 'lwgica', 'lxgica', 'lygica', 'lzgica', 'làgica', 'lágica', 'lâgica', 'lãgica', 'lègica', 'légica', 'lêgica', 'lìgica', 'lígica', 'lîgica', 'lògica', 'lógica', 'lôgica', 'lõgica', 'lùgica', 'lúgica', 'lûgica', 'lçgica', 'lgaica', 'lgbica', 'lgcica', 'lgdica', 'lgeica', 'lgfica', 'lggica', 'lghica', 'lgiica', 'lgjica', 'lgkica', 'lglica', 'lgmica', 'lgnica', 'lgoica', 'lgpica', 'lgqica', 'lgrica', 'lgsica', 'lgtica', 'lguica', 'lgvica', 'lgwica', 'lgxica', 'lgyica', 'lgzica', 'lgàica', 'lgáica', 'lgâica', 'lgãica', 'lgèica', 'lgéica', 'lgêica', 'lgìica', 'lgíica', 'lgîica', 'lgòica', 'lgóica', 'lgôica', 'lgõica', 'lgùica', 'lgúica', 'lgûica', 'lgçica', 'lgiaca', 'lgibca', 'lgicca', 'lgidca', 'lgieca', 'lgifca', 'lgigca', 'lgihca', 'lgiica', 'lgijca', 'lgikca', 'lgilca', 'lgimca', 'lginca', 'lgioca', 'lgipca', 'lgiqca', 'lgirca', 'lgisca', 'lgitca', 'lgiuca', 'lgivca', 'lgiwca', 'lgixca', 'lgiyca', 'lgizca', 'lgiàca', 'lgiáca', 'lgiâca', 'lgiãca', 'lgièca', 'lgiéca', 'lgiêca', 'lgiìca', 'lgiíca', 'lgiîca', 'lgiòca', 'lgióca', 'lgiôca', 'lgiõca', 'lgiùca', 'lgiúca', 'lgiûca', 'lgiçca', 'lgicaa', 'lgicba', 'lgicca', 'lgicda', 'lgicea', 'lgicfa', 'lgicga', 'lgicha', 'lgicia', 'lgicja', 'lgicka', 'lgicla', 'lgicma', 'lgicna', 'lgicoa', 'lgicpa', 'lgicqa', 'lgicra', 'lgicsa', 'lgicta', 'lgicua', 'lgicva', 'lgicwa', 'lgicxa', 'lgicya', 'lgicza', 'lgicàa', 'lgicáa', 'lgicâa', 'lgicãa', 'lgicèa', 'lgicéa', 'lgicêa', 'lgicìa', 'lgicía', 'lgicîa', 'lgicòa', 'lgicóa', 'lgicôa', 'lgicõa', 'lgicùa', 'lgicúa', 'lgicûa', 'lgicça', 'lgicaa', 'lgicab', 'lgicac', 'lgicad', 'lgicae', 'lgicaf', 'lgicag', 'lgicah', 'lgicai', 'lgicaj', 'lgicak', 'lgical', 'lgicam', 'lgican', 'lgicao', 'lgicap', 'lgicaq', 'lgicar', 'lgicas', 'lgicat', 'lgicau', 'lgicav', 'lgicaw', 'lgicax', 'lgicay', 'lgicaz', 'lgicaà', 'lgicaá', 'lgicaâ', 'lgicaã', 'lgicaè', 'lgicaé', 'lgicaê', 'lgicaì', 'lgicaí', 'lgicaî', 'lgicaò', 'lgicaó', 'lgicaô', 'lgicaõ', 'lgicaù', 'lgicaú', 'lgicaû', 'lgicaç']\n"
     ]
    },
    {
     "data": {
      "text/plain": [
       "'lógica'"
      ]
     },
     "execution_count": 76,
     "metadata": {},
     "output_type": "execute_result"
    }
   ],
   "source": [
    "corretor('lgica')"
   ]
  },
  {
   "cell_type": "code",
   "execution_count": 77,
   "id": "a7fce927",
   "metadata": {},
   "outputs": [
    {
     "data": {
      "text/plain": [
       "0"
      ]
     },
     "execution_count": 77,
     "metadata": {},
     "output_type": "execute_result"
    }
   ],
   "source": [
    "frequencia['lõgica']"
   ]
  },
  {
   "cell_type": "markdown",
   "id": "d442b0ed",
   "metadata": {},
   "source": [
    "## definindo modelo de testagem da versão atual do corretor"
   ]
  },
  {
   "cell_type": "code",
   "execution_count": 28,
   "id": "2eb746fa",
   "metadata": {},
   "outputs": [
    {
     "name": "stdout",
     "output_type": "stream",
     "text": [
      "[('podemos', 'pyodemos'), ('esse', 'esje'), ('já', 'jrá'), ('nosso', 'nossov'), ('são', 'sãêo'), ('dos', 'dosa'), ('muito', 'muifo'), ('imagem', 'iômagem'), ('sua', 'ósua'), ('também', 'tambéùm')]\n"
     ]
    }
   ],
   "source": [
    "def cria_teste(nome_arquivo):\n",
    "    lista_palavras_teste = []\n",
    "    f=open(nome_arquivo, 'r',encoding=\"utf8\")\n",
    "    for linha in f:\n",
    "        correta,errada = linha.split()\n",
    "        lista_palavras_teste.append((correta,errada))\n",
    "    f.close()\n",
    "    return lista_palavras_teste\n",
    "\n",
    "lista_teste = cria_teste('dados/palavras.txt')\n",
    "\n",
    "print(lista_teste[:10])"
   ]
  },
  {
   "cell_type": "code",
   "execution_count": 53,
   "id": "ff4e3335",
   "metadata": {},
   "outputs": [
    {
     "name": "stdout",
     "output_type": "stream",
     "text": [
      " Palavras corrigidas:0\n",
      " Palavras não corrigidas:186\n",
      "Taxa de acerto 0.0%\n"
     ]
    },
    {
     "data": {
      "text/plain": [
       "[('podemos', 'pyodemos'),\n",
       " ('esse', 'esje'),\n",
       " ('já', 'jrá'),\n",
       " ('nosso', 'nossov'),\n",
       " ('são', 'sãêo'),\n",
       " ('dos', 'dosa'),\n",
       " ('muito', 'muifo'),\n",
       " ('imagem', 'iômagem'),\n",
       " ('sua', 'ósua'),\n",
       " ('também', 'tambéùm'),\n",
       " ('ele', 'eme'),\n",
       " ('fazer', 'èazer'),\n",
       " ('temos', 'temfs'),\n",
       " ('essa', 'eàssa'),\n",
       " ('quando', 'quaôdo'),\n",
       " ('vamos', 'vamvos'),\n",
       " ('sobre', 'hsobre'),\n",
       " ('java', 'sjava'),\n",
       " ('das', 'daõs'),\n",
       " ('agora', 'agorah'),\n",
       " ('está', 'eòtá'),\n",
       " ('cada', 'céda'),\n",
       " ('mesmo', 'zmesmo'),\n",
       " ('nos', 'noâ'),\n",
       " ('forma', 'fobma'),\n",
       " ('seja', 'sejéa'),\n",
       " ('então', 'enêão'),\n",
       " ('criar', 'èriar'),\n",
       " ('código', 'cóeigo'),\n",
       " ('caso', 'casío'),\n",
       " ('exemplo', 'áexemplo'),\n",
       " ('tem', 'tĩem'),\n",
       " ('usuário', 'usuárôio'),\n",
       " ('dados', 'dfados'),\n",
       " ('python', 'pgthon'),\n",
       " ('nossa', 'nossah'),\n",
       " ('além', 'alémè'),\n",
       " ('assim', 'asõim'),\n",
       " ('ter', 'teb'),\n",
       " ('até', 'atĩ'),\n",
       " ('bem', 'âem'),\n",
       " ('design', 'desigen'),\n",
       " ('trabalho', 'trabalàho'),\n",
       " ('foi', 'foo'),\n",
       " ('apenas', 'apenaũ'),\n",
       " ('empresa', 'empresà'),\n",
       " ('valor', 'valíor'),\n",
       " ('será', 'serr'),\n",
       " ('entre', 'entke'),\n",
       " ('método', 'méqodo'),\n",
       " ('precisamos', 'precisamops'),\n",
       " ('ainda', 'ainàa'),\n",
       " ('vai', 'van'),\n",
       " ('conteúdo', 'ûconteúdo'),\n",
       " ('seus', 'çeus'),\n",
       " ('eu', 'eû'),\n",
       " ('todos', 'todtos'),\n",
       " ('tempo', 'temeo'),\n",
       " ('sempre', 'semre'),\n",
       " ('qual', 'quakl'),\n",
       " ('ela', 'elaá'),\n",
       " ('só', 'síó'),\n",
       " ('utilizar', 'utiqizar'),\n",
       " ('projeto', 'prhojeto'),\n",
       " ('site', 'siàe'),\n",
       " ('sem', 'seém'),\n",
       " ('pelo', 'peln'),\n",
       " ('alura', 'aléra'),\n",
       " ('dia', 'tdia'),\n",
       " ('tudo', 'tuúo'),\n",
       " ('podemos', 'kpodemos'),\n",
       " ('esse', 'eẽsse'),\n",
       " ('já', 'jé'),\n",
       " ('nosso', 'nçosso'),\n",
       " ('são', 'sãô'),\n",
       " ('dos', 'odos'),\n",
       " ('muito', 'tuito'),\n",
       " ('imagem', 'imõgem'),\n",
       " ('sua', 'siua'),\n",
       " ('também', 'tamvbém'),\n",
       " ('ele', 'elpe'),\n",
       " ('fazer', 'façzer'),\n",
       " ('temos', 'teos'),\n",
       " ('essa', 'eũsa'),\n",
       " ('quando', 'quaìdo'),\n",
       " ('vamos', 'vjmos'),\n",
       " ('sobre', 'sxobre'),\n",
       " ('java', 'jkva'),\n",
       " ('das', 'dms'),\n",
       " ('agora', 'agtora'),\n",
       " ('está', 'esútá'),\n",
       " ('cada', 'cava'),\n",
       " ('mesmo', 'medmo'),\n",
       " ('nos', 'ános'),\n",
       " ('forma', 'forûa'),\n",
       " ('seja', 'smeja'),\n",
       " ('então', 'enjtão'),\n",
       " ('criar', 'criôar'),\n",
       " ('código', 'cóàigo'),\n",
       " ('caso', 'èaso'),\n",
       " ('exemplo', 'exbemplo'),\n",
       " ('tem', 'túem'),\n",
       " ('usuário', 'usuárin'),\n",
       " ('dados', 'daáos'),\n",
       " ('python', 'pythoçn'),\n",
       " ('nossa', 'nossk'),\n",
       " ('além', 'âlém'),\n",
       " ('assim', 'aóssim'),\n",
       " ('ter', 'tãer'),\n",
       " ('até', 'vté'),\n",
       " ('bem', 'búm'),\n",
       " ('design', 'íesign'),\n",
       " ('trabalho', 'trabèalho'),\n",
       " ('foi', 'kfoi'),\n",
       " ('apenas', 'aapenas'),\n",
       " ('empresa', 'pmpresa'),\n",
       " ('valor', 'valoqr'),\n",
       " ('será', 'sçerá'),\n",
       " ('entre', 'entró'),\n",
       " ('método', 'nétodo'),\n",
       " ('precisamos', 'prefcisamos'),\n",
       " ('ainda', 'sainda'),\n",
       " ('vai', 'uai'),\n",
       " ('conteúdo', 'cĩonteúdo'),\n",
       " ('seus', 'sâus'),\n",
       " ('eu', 'ìeu'),\n",
       " ('todos', 'todás'),\n",
       " ('tempo', 'utempo'),\n",
       " ('sempre', 'sempce'),\n",
       " ('qual', 'fual'),\n",
       " ('ela', 'elal'),\n",
       " ('só', 'skó'),\n",
       " ('utilizar', 'utilĩzar'),\n",
       " ('projeto', 'proójeto'),\n",
       " ('site', 'isite'),\n",
       " ('sem', 'secm'),\n",
       " ('pelo', 'pẽlo'),\n",
       " ('alura', 'aluéa'),\n",
       " ('dia', 'dil'),\n",
       " ('tudo', 'tudy'),\n",
       " ('ela', 'qelay'),\n",
       " ('só', 'sód'),\n",
       " ('utilizar', 'dtilizacr'),\n",
       " ('projeto', 'bprojõto'),\n",
       " ('site', 'ysiteo'),\n",
       " ('sem', 'sõêm'),\n",
       " ('pelo', 'peàli'),\n",
       " ('alura', 'asuraó'),\n",
       " ('dia', 'deiìa'),\n",
       " ('tudo', 'tuĩdoì'),\n",
       " ('ela', 'eúaa'),\n",
       " ('só', 'ró'),\n",
       " ('utilizar', 'utilizẽaçr'),\n",
       " ('projeto', 'prêjetó'),\n",
       " ('site', 'sqiqte'),\n",
       " ('sem', 'sũexm'),\n",
       " ('pelo', 'pçlxo'),\n",
       " ('alura', 'uluraa'),\n",
       " ('dia', 'dĩaz'),\n",
       " ('tudo', 'kzudo'),\n",
       " ('corretor', 'correptor'),\n",
       " ('tática', 'trtica'),\n",
       " ('empoderamento', 'ewpoderamento'),\n",
       " ('linux', 'lifux'),\n",
       " ('cachorro', 'cachoçro'),\n",
       " ('gato', 'îgato'),\n",
       " ('cavalo', 'cakvalo'),\n",
       " ('relógio', 'relógiuo'),\n",
       " ('canela', 'canelac'),\n",
       " ('tênis', 'tênisy'),\n",
       " ('ansiosa', 'anciosa'),\n",
       " ('ansiosa', 'ancciosa'),\n",
       " ('ansiosa', 'ansioa'),\n",
       " ('empoderamento', 'empoderamento'),\n",
       " ('asterisco', 'asterístico'),\n",
       " ('gratuito', 'gratuíto'),\n",
       " ('entretido', 'entertido'),\n",
       " ('ritmo', 'ritimo'),\n",
       " ('idiota', 'indiota'),\n",
       " ('tomara', 'tomare'),\n",
       " ('seja', 'seje'),\n",
       " ('prevalecer', 'provalecer'),\n",
       " ('esteja', 'esteje'),\n",
       " ('mendigo', 'mindigo'),\n",
       " ('cérebro', 'célebro'),\n",
       " ('perturbar', 'pertubar')]"
      ]
     },
     "execution_count": 53,
     "metadata": {},
     "output_type": "execute_result"
    }
   ],
   "source": [
    "def avaliador(entrada):\n",
    "    maximo = len(entrada)\n",
    "    hits = 0\n",
    "    palavras_erradas = []\n",
    "    for certo,errado in entrada:\n",
    "        if certo == corretor(errado):\n",
    "            hits += 1\n",
    "        else:\n",
    "            palavras_erradas.append((certo,errado))\n",
    "        taxa = round(hits*100/maximo,2)\n",
    "        erros = maximo - hits\n",
    "    print(f' Palavras corrigidas:{hits}')\n",
    "    print(f' Palavras não corrigidas:{maximo - hits}')\n",
    "    print(f'Taxa de acerto {taxa}%')\n",
    "    return(palavras_erradas)\n",
    "        \n",
    "avaliador(lista_teste)"
   ]
  },
  {
   "cell_type": "markdown",
   "id": "0b1c29bf",
   "metadata": {},
   "source": [
    "#### corretor com taxa de correção de 2%"
   ]
  },
  {
   "cell_type": "markdown",
   "id": "3d8dcae3",
   "metadata": {},
   "source": [
    "# Adicionando função de remoção de letras"
   ]
  },
  {
   "cell_type": "code",
   "execution_count": 30,
   "id": "78a3f856",
   "metadata": {},
   "outputs": [],
   "source": [
    "teste = 'lóggica'\n",
    "def del_letra(fatias):\n",
    "    novas_palavras = []\n",
    "    for E, D in fatias:#é esperado vir tuplas\n",
    "        novas_palavras.append(E + D[1:])#remonta excluindo uma letra\n",
    "    return novas_palavras"
   ]
  },
  {
   "cell_type": "code",
   "execution_count": 31,
   "id": "c59e1d0e",
   "metadata": {},
   "outputs": [
    {
     "name": "stdout",
     "output_type": "stream",
     "text": [
      "['algica', 'blgica', 'clgica', 'dlgica', 'elgica', 'flgica', 'glgica', 'hlgica', 'ilgica', 'jlgica', 'klgica', 'llgica', 'mlgica', 'nlgica', 'olgica', 'plgica', 'qlgica', 'rlgica', 'slgica', 'tlgica', 'ulgica', 'vlgica', 'wlgica', 'xlgica', 'ylgica', 'zlgica', 'àlgica', 'álgica', 'âlgica', 'ãlgica', 'èlgica', 'élgica', 'êlgica', 'ìlgica', 'ílgica', 'îlgica', 'òlgica', 'ólgica', 'ôlgica', 'õlgica', 'ùlgica', 'úlgica', 'ûlgica', 'çlgica', 'lagica', 'lbgica', 'lcgica', 'ldgica', 'legica', 'lfgica', 'lggica', 'lhgica', 'ligica', 'ljgica', 'lkgica', 'llgica', 'lmgica', 'lngica', 'logica', 'lpgica', 'lqgica', 'lrgica', 'lsgica', 'ltgica', 'lugica', 'lvgica', 'lwgica', 'lxgica', 'lygica', 'lzgica', 'làgica', 'lágica', 'lâgica', 'lãgica', 'lègica', 'légica', 'lêgica', 'lìgica', 'lígica', 'lîgica', 'lògica', 'lógica', 'lôgica', 'lõgica', 'lùgica', 'lúgica', 'lûgica', 'lçgica', 'lgaica', 'lgbica', 'lgcica', 'lgdica', 'lgeica', 'lgfica', 'lggica', 'lghica', 'lgiica', 'lgjica', 'lgkica', 'lglica', 'lgmica', 'lgnica', 'lgoica', 'lgpica', 'lgqica', 'lgrica', 'lgsica', 'lgtica', 'lguica', 'lgvica', 'lgwica', 'lgxica', 'lgyica', 'lgzica', 'lgàica', 'lgáica', 'lgâica', 'lgãica', 'lgèica', 'lgéica', 'lgêica', 'lgìica', 'lgíica', 'lgîica', 'lgòica', 'lgóica', 'lgôica', 'lgõica', 'lgùica', 'lgúica', 'lgûica', 'lgçica', 'lgiaca', 'lgibca', 'lgicca', 'lgidca', 'lgieca', 'lgifca', 'lgigca', 'lgihca', 'lgiica', 'lgijca', 'lgikca', 'lgilca', 'lgimca', 'lginca', 'lgioca', 'lgipca', 'lgiqca', 'lgirca', 'lgisca', 'lgitca', 'lgiuca', 'lgivca', 'lgiwca', 'lgixca', 'lgiyca', 'lgizca', 'lgiàca', 'lgiáca', 'lgiâca', 'lgiãca', 'lgièca', 'lgiéca', 'lgiêca', 'lgiìca', 'lgiíca', 'lgiîca', 'lgiòca', 'lgióca', 'lgiôca', 'lgiõca', 'lgiùca', 'lgiúca', 'lgiûca', 'lgiçca', 'lgicaa', 'lgicba', 'lgicca', 'lgicda', 'lgicea', 'lgicfa', 'lgicga', 'lgicha', 'lgicia', 'lgicja', 'lgicka', 'lgicla', 'lgicma', 'lgicna', 'lgicoa', 'lgicpa', 'lgicqa', 'lgicra', 'lgicsa', 'lgicta', 'lgicua', 'lgicva', 'lgicwa', 'lgicxa', 'lgicya', 'lgicza', 'lgicàa', 'lgicáa', 'lgicâa', 'lgicãa', 'lgicèa', 'lgicéa', 'lgicêa', 'lgicìa', 'lgicía', 'lgicîa', 'lgicòa', 'lgicóa', 'lgicôa', 'lgicõa', 'lgicùa', 'lgicúa', 'lgicûa', 'lgicça', 'lgicaa', 'lgicab', 'lgicac', 'lgicad', 'lgicae', 'lgicaf', 'lgicag', 'lgicah', 'lgicai', 'lgicaj', 'lgicak', 'lgical', 'lgicam', 'lgican', 'lgicao', 'lgicap', 'lgicaq', 'lgicar', 'lgicas', 'lgicat', 'lgicau', 'lgicav', 'lgicaw', 'lgicax', 'lgicay', 'lgicaz', 'lgicaà', 'lgicaá', 'lgicaâ', 'lgicaã', 'lgicaè', 'lgicaé', 'lgicaê', 'lgicaì', 'lgicaí', 'lgicaî', 'lgicaò', 'lgicaó', 'lgicaô', 'lgicaõ', 'lgicaù', 'lgicaú', 'lgicaû', 'lgicaç', 'gica', 'lica', 'lgca', 'lgia', 'lgic', 'lgica']\n"
     ]
    }
   ],
   "source": [
    "def gerador_palavras(palavra):\n",
    "    fatias = []\n",
    "    for i in range(len(palavra)+1):#basicamente mudamos o index, e assim mudamos o local de quebra da palabra\n",
    "        fatias.append((palavra[:i],palavra[i:]))#importante adicionar +1, já que o ultimo index não é normalmente pego\n",
    "    palavras_geradas = insere_letras(fatias)\n",
    "    palavras_geradas += del_letra(fatias)#adicionando essa parte para incluir del de caracteres\n",
    "    return palavras_geradas\n",
    "palavras_geradas = gerador_palavras(exemplo)\n",
    "print(palavras_geradas)"
   ]
  },
  {
   "cell_type": "code",
   "execution_count": 32,
   "id": "7933ea12",
   "metadata": {},
   "outputs": [
    {
     "data": {
      "text/plain": [
       "'olharr'"
      ]
     },
     "execution_count": 32,
     "metadata": {},
     "output_type": "execute_result"
    }
   ],
   "source": [
    "exemplo = ('olharr')\n",
    "exemplo"
   ]
  },
  {
   "cell_type": "code",
   "execution_count": 33,
   "id": "f6dc41eb",
   "metadata": {},
   "outputs": [
    {
     "data": {
      "text/plain": [
       "'aolharr'"
      ]
     },
     "execution_count": 33,
     "metadata": {},
     "output_type": "execute_result"
    }
   ],
   "source": [
    "corretor(exemplo)"
   ]
  },
  {
   "cell_type": "code",
   "execution_count": 34,
   "id": "c33dd27c",
   "metadata": {},
   "outputs": [
    {
     "name": "stdout",
     "output_type": "stream",
     "text": [
      " Palavras corrigidas:0\n",
      " Palavras não corrigidas:186\n",
      "Taxa de acerto 0.0%\n"
     ]
    },
    {
     "data": {
      "text/plain": [
       "[('podemos', 'pyodemos'),\n",
       " ('esse', 'esje'),\n",
       " ('já', 'jrá'),\n",
       " ('nosso', 'nossov'),\n",
       " ('são', 'sãêo'),\n",
       " ('dos', 'dosa'),\n",
       " ('muito', 'muifo'),\n",
       " ('imagem', 'iômagem'),\n",
       " ('sua', 'ósua'),\n",
       " ('também', 'tambéùm'),\n",
       " ('ele', 'eme'),\n",
       " ('fazer', 'èazer'),\n",
       " ('temos', 'temfs'),\n",
       " ('essa', 'eàssa'),\n",
       " ('quando', 'quaôdo'),\n",
       " ('vamos', 'vamvos'),\n",
       " ('sobre', 'hsobre'),\n",
       " ('java', 'sjava'),\n",
       " ('das', 'daõs'),\n",
       " ('agora', 'agorah'),\n",
       " ('está', 'eòtá'),\n",
       " ('cada', 'céda'),\n",
       " ('mesmo', 'zmesmo'),\n",
       " ('nos', 'noâ'),\n",
       " ('forma', 'fobma'),\n",
       " ('seja', 'sejéa'),\n",
       " ('então', 'enêão'),\n",
       " ('criar', 'èriar'),\n",
       " ('código', 'cóeigo'),\n",
       " ('caso', 'casío'),\n",
       " ('exemplo', 'áexemplo'),\n",
       " ('tem', 'tĩem'),\n",
       " ('usuário', 'usuárôio'),\n",
       " ('dados', 'dfados'),\n",
       " ('python', 'pgthon'),\n",
       " ('nossa', 'nossah'),\n",
       " ('além', 'alémè'),\n",
       " ('assim', 'asõim'),\n",
       " ('ter', 'teb'),\n",
       " ('até', 'atĩ'),\n",
       " ('bem', 'âem'),\n",
       " ('design', 'desigen'),\n",
       " ('trabalho', 'trabalàho'),\n",
       " ('foi', 'foo'),\n",
       " ('apenas', 'apenaũ'),\n",
       " ('empresa', 'empresà'),\n",
       " ('valor', 'valíor'),\n",
       " ('será', 'serr'),\n",
       " ('entre', 'entke'),\n",
       " ('método', 'méqodo'),\n",
       " ('precisamos', 'precisamops'),\n",
       " ('ainda', 'ainàa'),\n",
       " ('vai', 'van'),\n",
       " ('conteúdo', 'ûconteúdo'),\n",
       " ('seus', 'çeus'),\n",
       " ('eu', 'eû'),\n",
       " ('todos', 'todtos'),\n",
       " ('tempo', 'temeo'),\n",
       " ('sempre', 'semre'),\n",
       " ('qual', 'quakl'),\n",
       " ('ela', 'elaá'),\n",
       " ('só', 'síó'),\n",
       " ('utilizar', 'utiqizar'),\n",
       " ('projeto', 'prhojeto'),\n",
       " ('site', 'siàe'),\n",
       " ('sem', 'seém'),\n",
       " ('pelo', 'peln'),\n",
       " ('alura', 'aléra'),\n",
       " ('dia', 'tdia'),\n",
       " ('tudo', 'tuúo'),\n",
       " ('podemos', 'kpodemos'),\n",
       " ('esse', 'eẽsse'),\n",
       " ('já', 'jé'),\n",
       " ('nosso', 'nçosso'),\n",
       " ('são', 'sãô'),\n",
       " ('dos', 'odos'),\n",
       " ('muito', 'tuito'),\n",
       " ('imagem', 'imõgem'),\n",
       " ('sua', 'siua'),\n",
       " ('também', 'tamvbém'),\n",
       " ('ele', 'elpe'),\n",
       " ('fazer', 'façzer'),\n",
       " ('temos', 'teos'),\n",
       " ('essa', 'eũsa'),\n",
       " ('quando', 'quaìdo'),\n",
       " ('vamos', 'vjmos'),\n",
       " ('sobre', 'sxobre'),\n",
       " ('java', 'jkva'),\n",
       " ('das', 'dms'),\n",
       " ('agora', 'agtora'),\n",
       " ('está', 'esútá'),\n",
       " ('cada', 'cava'),\n",
       " ('mesmo', 'medmo'),\n",
       " ('nos', 'ános'),\n",
       " ('forma', 'forûa'),\n",
       " ('seja', 'smeja'),\n",
       " ('então', 'enjtão'),\n",
       " ('criar', 'criôar'),\n",
       " ('código', 'cóàigo'),\n",
       " ('caso', 'èaso'),\n",
       " ('exemplo', 'exbemplo'),\n",
       " ('tem', 'túem'),\n",
       " ('usuário', 'usuárin'),\n",
       " ('dados', 'daáos'),\n",
       " ('python', 'pythoçn'),\n",
       " ('nossa', 'nossk'),\n",
       " ('além', 'âlém'),\n",
       " ('assim', 'aóssim'),\n",
       " ('ter', 'tãer'),\n",
       " ('até', 'vté'),\n",
       " ('bem', 'búm'),\n",
       " ('design', 'íesign'),\n",
       " ('trabalho', 'trabèalho'),\n",
       " ('foi', 'kfoi'),\n",
       " ('apenas', 'aapenas'),\n",
       " ('empresa', 'pmpresa'),\n",
       " ('valor', 'valoqr'),\n",
       " ('será', 'sçerá'),\n",
       " ('entre', 'entró'),\n",
       " ('método', 'nétodo'),\n",
       " ('precisamos', 'prefcisamos'),\n",
       " ('ainda', 'sainda'),\n",
       " ('vai', 'uai'),\n",
       " ('conteúdo', 'cĩonteúdo'),\n",
       " ('seus', 'sâus'),\n",
       " ('eu', 'ìeu'),\n",
       " ('todos', 'todás'),\n",
       " ('tempo', 'utempo'),\n",
       " ('sempre', 'sempce'),\n",
       " ('qual', 'fual'),\n",
       " ('ela', 'elal'),\n",
       " ('só', 'skó'),\n",
       " ('utilizar', 'utilĩzar'),\n",
       " ('projeto', 'proójeto'),\n",
       " ('site', 'isite'),\n",
       " ('sem', 'secm'),\n",
       " ('pelo', 'pẽlo'),\n",
       " ('alura', 'aluéa'),\n",
       " ('dia', 'dil'),\n",
       " ('tudo', 'tudy'),\n",
       " ('ela', 'qelay'),\n",
       " ('só', 'sód'),\n",
       " ('utilizar', 'dtilizacr'),\n",
       " ('projeto', 'bprojõto'),\n",
       " ('site', 'ysiteo'),\n",
       " ('sem', 'sõêm'),\n",
       " ('pelo', 'peàli'),\n",
       " ('alura', 'asuraó'),\n",
       " ('dia', 'deiìa'),\n",
       " ('tudo', 'tuĩdoì'),\n",
       " ('ela', 'eúaa'),\n",
       " ('só', 'ró'),\n",
       " ('utilizar', 'utilizẽaçr'),\n",
       " ('projeto', 'prêjetó'),\n",
       " ('site', 'sqiqte'),\n",
       " ('sem', 'sũexm'),\n",
       " ('pelo', 'pçlxo'),\n",
       " ('alura', 'uluraa'),\n",
       " ('dia', 'dĩaz'),\n",
       " ('tudo', 'kzudo'),\n",
       " ('corretor', 'correptor'),\n",
       " ('tática', 'trtica'),\n",
       " ('empoderamento', 'ewpoderamento'),\n",
       " ('linux', 'lifux'),\n",
       " ('cachorro', 'cachoçro'),\n",
       " ('gato', 'îgato'),\n",
       " ('cavalo', 'cakvalo'),\n",
       " ('relógio', 'relógiuo'),\n",
       " ('canela', 'canelac'),\n",
       " ('tênis', 'tênisy'),\n",
       " ('ansiosa', 'anciosa'),\n",
       " ('ansiosa', 'ancciosa'),\n",
       " ('ansiosa', 'ansioa'),\n",
       " ('empoderamento', 'empoderamento'),\n",
       " ('asterisco', 'asterístico'),\n",
       " ('gratuito', 'gratuíto'),\n",
       " ('entretido', 'entertido'),\n",
       " ('ritmo', 'ritimo'),\n",
       " ('idiota', 'indiota'),\n",
       " ('tomara', 'tomare'),\n",
       " ('seja', 'seje'),\n",
       " ('prevalecer', 'provalecer'),\n",
       " ('esteja', 'esteje'),\n",
       " ('mendigo', 'mindigo'),\n",
       " ('cérebro', 'célebro'),\n",
       " ('perturbar', 'pertubar')]"
      ]
     },
     "execution_count": 34,
     "metadata": {},
     "output_type": "execute_result"
    }
   ],
   "source": [
    "avaliador(lista_teste)"
   ]
  },
  {
   "cell_type": "markdown",
   "id": "388507c7",
   "metadata": {},
   "source": [
    "#### Aumentamos bastante a eficiência, somente adicionando possibilidade de deletar letras"
   ]
  },
  {
   "cell_type": "markdown",
   "id": "f166b121",
   "metadata": {},
   "source": [
    "## configurando algoritmo de troca de letras"
   ]
  },
  {
   "cell_type": "code",
   "execution_count": 35,
   "id": "d230ae3e",
   "metadata": {},
   "outputs": [],
   "source": [
    "exemplo = 'lígica'"
   ]
  },
  {
   "cell_type": "code",
   "execution_count": 36,
   "id": "5eb4ad92",
   "metadata": {},
   "outputs": [],
   "source": [
    "def troca_letra(fatias):\n",
    "    novas_palavras = []\n",
    "    letras = 'abcdefghijklmnopqrstuvwxyzàáâãèéêìíîòóôõùúûç'\n",
    "    for E,D in fatias:\n",
    "        for letra in letras:\n",
    "               novas_palavras.append(str(E)+letra+str(D[1:]))\n",
    "    return novas_palavras\n",
    "        "
   ]
  },
  {
   "cell_type": "code",
   "execution_count": 37,
   "id": "6cbf42e4",
   "metadata": {},
   "outputs": [],
   "source": [
    "def gerador_palavras(palavra):\n",
    "    fatias = []\n",
    "    for i in range(len(palavra)+1):#basicamente mudamos o index, e assim mudamos o local de quebra da palabra\n",
    "        fatias.append((palavra[:i],palavra[i:]))#importante adicionar +1, já que o ultimo index não é normalmente pego\n",
    "    palavras_geradas = insere_letras(fatias)\n",
    "    palavras_geradas += del_letra(fatias)#adicionando essa parte para incluir del de caracteres\n",
    "    palavras_geradas += troca_letra(fatias)\n",
    "    return palavras_geradas"
   ]
  },
  {
   "cell_type": "code",
   "execution_count": 38,
   "id": "2f97eca7",
   "metadata": {
    "scrolled": false
   },
   "outputs": [
    {
     "name": "stdout",
     "output_type": "stream",
     "text": [
      " Palavras corrigidas:0\n",
      " Palavras não corrigidas:186\n",
      "Taxa de acerto 0.0%\n"
     ]
    },
    {
     "data": {
      "text/plain": [
       "[('podemos', 'pyodemos'),\n",
       " ('esse', 'esje'),\n",
       " ('já', 'jrá'),\n",
       " ('nosso', 'nossov'),\n",
       " ('são', 'sãêo'),\n",
       " ('dos', 'dosa'),\n",
       " ('muito', 'muifo'),\n",
       " ('imagem', 'iômagem'),\n",
       " ('sua', 'ósua'),\n",
       " ('também', 'tambéùm'),\n",
       " ('ele', 'eme'),\n",
       " ('fazer', 'èazer'),\n",
       " ('temos', 'temfs'),\n",
       " ('essa', 'eàssa'),\n",
       " ('quando', 'quaôdo'),\n",
       " ('vamos', 'vamvos'),\n",
       " ('sobre', 'hsobre'),\n",
       " ('java', 'sjava'),\n",
       " ('das', 'daõs'),\n",
       " ('agora', 'agorah'),\n",
       " ('está', 'eòtá'),\n",
       " ('cada', 'céda'),\n",
       " ('mesmo', 'zmesmo'),\n",
       " ('nos', 'noâ'),\n",
       " ('forma', 'fobma'),\n",
       " ('seja', 'sejéa'),\n",
       " ('então', 'enêão'),\n",
       " ('criar', 'èriar'),\n",
       " ('código', 'cóeigo'),\n",
       " ('caso', 'casío'),\n",
       " ('exemplo', 'áexemplo'),\n",
       " ('tem', 'tĩem'),\n",
       " ('usuário', 'usuárôio'),\n",
       " ('dados', 'dfados'),\n",
       " ('python', 'pgthon'),\n",
       " ('nossa', 'nossah'),\n",
       " ('além', 'alémè'),\n",
       " ('assim', 'asõim'),\n",
       " ('ter', 'teb'),\n",
       " ('até', 'atĩ'),\n",
       " ('bem', 'âem'),\n",
       " ('design', 'desigen'),\n",
       " ('trabalho', 'trabalàho'),\n",
       " ('foi', 'foo'),\n",
       " ('apenas', 'apenaũ'),\n",
       " ('empresa', 'empresà'),\n",
       " ('valor', 'valíor'),\n",
       " ('será', 'serr'),\n",
       " ('entre', 'entke'),\n",
       " ('método', 'méqodo'),\n",
       " ('precisamos', 'precisamops'),\n",
       " ('ainda', 'ainàa'),\n",
       " ('vai', 'van'),\n",
       " ('conteúdo', 'ûconteúdo'),\n",
       " ('seus', 'çeus'),\n",
       " ('eu', 'eû'),\n",
       " ('todos', 'todtos'),\n",
       " ('tempo', 'temeo'),\n",
       " ('sempre', 'semre'),\n",
       " ('qual', 'quakl'),\n",
       " ('ela', 'elaá'),\n",
       " ('só', 'síó'),\n",
       " ('utilizar', 'utiqizar'),\n",
       " ('projeto', 'prhojeto'),\n",
       " ('site', 'siàe'),\n",
       " ('sem', 'seém'),\n",
       " ('pelo', 'peln'),\n",
       " ('alura', 'aléra'),\n",
       " ('dia', 'tdia'),\n",
       " ('tudo', 'tuúo'),\n",
       " ('podemos', 'kpodemos'),\n",
       " ('esse', 'eẽsse'),\n",
       " ('já', 'jé'),\n",
       " ('nosso', 'nçosso'),\n",
       " ('são', 'sãô'),\n",
       " ('dos', 'odos'),\n",
       " ('muito', 'tuito'),\n",
       " ('imagem', 'imõgem'),\n",
       " ('sua', 'siua'),\n",
       " ('também', 'tamvbém'),\n",
       " ('ele', 'elpe'),\n",
       " ('fazer', 'façzer'),\n",
       " ('temos', 'teos'),\n",
       " ('essa', 'eũsa'),\n",
       " ('quando', 'quaìdo'),\n",
       " ('vamos', 'vjmos'),\n",
       " ('sobre', 'sxobre'),\n",
       " ('java', 'jkva'),\n",
       " ('das', 'dms'),\n",
       " ('agora', 'agtora'),\n",
       " ('está', 'esútá'),\n",
       " ('cada', 'cava'),\n",
       " ('mesmo', 'medmo'),\n",
       " ('nos', 'ános'),\n",
       " ('forma', 'forûa'),\n",
       " ('seja', 'smeja'),\n",
       " ('então', 'enjtão'),\n",
       " ('criar', 'criôar'),\n",
       " ('código', 'cóàigo'),\n",
       " ('caso', 'èaso'),\n",
       " ('exemplo', 'exbemplo'),\n",
       " ('tem', 'túem'),\n",
       " ('usuário', 'usuárin'),\n",
       " ('dados', 'daáos'),\n",
       " ('python', 'pythoçn'),\n",
       " ('nossa', 'nossk'),\n",
       " ('além', 'âlém'),\n",
       " ('assim', 'aóssim'),\n",
       " ('ter', 'tãer'),\n",
       " ('até', 'vté'),\n",
       " ('bem', 'búm'),\n",
       " ('design', 'íesign'),\n",
       " ('trabalho', 'trabèalho'),\n",
       " ('foi', 'kfoi'),\n",
       " ('apenas', 'aapenas'),\n",
       " ('empresa', 'pmpresa'),\n",
       " ('valor', 'valoqr'),\n",
       " ('será', 'sçerá'),\n",
       " ('entre', 'entró'),\n",
       " ('método', 'nétodo'),\n",
       " ('precisamos', 'prefcisamos'),\n",
       " ('ainda', 'sainda'),\n",
       " ('vai', 'uai'),\n",
       " ('conteúdo', 'cĩonteúdo'),\n",
       " ('seus', 'sâus'),\n",
       " ('eu', 'ìeu'),\n",
       " ('todos', 'todás'),\n",
       " ('tempo', 'utempo'),\n",
       " ('sempre', 'sempce'),\n",
       " ('qual', 'fual'),\n",
       " ('ela', 'elal'),\n",
       " ('só', 'skó'),\n",
       " ('utilizar', 'utilĩzar'),\n",
       " ('projeto', 'proójeto'),\n",
       " ('site', 'isite'),\n",
       " ('sem', 'secm'),\n",
       " ('pelo', 'pẽlo'),\n",
       " ('alura', 'aluéa'),\n",
       " ('dia', 'dil'),\n",
       " ('tudo', 'tudy'),\n",
       " ('ela', 'qelay'),\n",
       " ('só', 'sód'),\n",
       " ('utilizar', 'dtilizacr'),\n",
       " ('projeto', 'bprojõto'),\n",
       " ('site', 'ysiteo'),\n",
       " ('sem', 'sõêm'),\n",
       " ('pelo', 'peàli'),\n",
       " ('alura', 'asuraó'),\n",
       " ('dia', 'deiìa'),\n",
       " ('tudo', 'tuĩdoì'),\n",
       " ('ela', 'eúaa'),\n",
       " ('só', 'ró'),\n",
       " ('utilizar', 'utilizẽaçr'),\n",
       " ('projeto', 'prêjetó'),\n",
       " ('site', 'sqiqte'),\n",
       " ('sem', 'sũexm'),\n",
       " ('pelo', 'pçlxo'),\n",
       " ('alura', 'uluraa'),\n",
       " ('dia', 'dĩaz'),\n",
       " ('tudo', 'kzudo'),\n",
       " ('corretor', 'correptor'),\n",
       " ('tática', 'trtica'),\n",
       " ('empoderamento', 'ewpoderamento'),\n",
       " ('linux', 'lifux'),\n",
       " ('cachorro', 'cachoçro'),\n",
       " ('gato', 'îgato'),\n",
       " ('cavalo', 'cakvalo'),\n",
       " ('relógio', 'relógiuo'),\n",
       " ('canela', 'canelac'),\n",
       " ('tênis', 'tênisy'),\n",
       " ('ansiosa', 'anciosa'),\n",
       " ('ansiosa', 'ancciosa'),\n",
       " ('ansiosa', 'ansioa'),\n",
       " ('empoderamento', 'empoderamento'),\n",
       " ('asterisco', 'asterístico'),\n",
       " ('gratuito', 'gratuíto'),\n",
       " ('entretido', 'entertido'),\n",
       " ('ritmo', 'ritimo'),\n",
       " ('idiota', 'indiota'),\n",
       " ('tomara', 'tomare'),\n",
       " ('seja', 'seje'),\n",
       " ('prevalecer', 'provalecer'),\n",
       " ('esteja', 'esteje'),\n",
       " ('mendigo', 'mindigo'),\n",
       " ('cérebro', 'célebro'),\n",
       " ('perturbar', 'pertubar')]"
      ]
     },
     "execution_count": 38,
     "metadata": {},
     "output_type": "execute_result"
    }
   ],
   "source": [
    "avaliador(lista_teste)"
   ]
  },
  {
   "cell_type": "markdown",
   "id": "0005c071",
   "metadata": {},
   "source": [
    "#### corretor com taxa de correção de 2%"
   ]
  },
  {
   "cell_type": "markdown",
   "id": "a5b65adc",
   "metadata": {},
   "source": [
    "## Melhoramos bastante, mas ainda podemos corrigir casos onde as letras estão invertidas no texto"
   ]
  },
  {
   "cell_type": "code",
   "execution_count": 127,
   "id": "10dbf163",
   "metadata": {},
   "outputs": [],
   "source": [
    "def inversor(fatias):\n",
    "    novas_palavras = []\n",
    "    for E,D in fatias:\n",
    "        if len(D) > 1:\n",
    "            nova = (str(E)+str(D[1])+str(D[0])+str(D[2:]))\n",
    "            novas_palavras.append(nova)\n",
    "    return novas_palavras"
   ]
  },
  {
   "cell_type": "code",
   "execution_count": 88,
   "id": "9da68226",
   "metadata": {},
   "outputs": [],
   "source": [
    "def gerador_palavras(palavra):\n",
    "    fatias = []\n",
    "    for i in range(len(palavra)+1):#basicamente mudamos o index, e assim mudamos o local de quebra da palabra\n",
    "        fatias.append((palavra[:i],palavra[i:]))#importante adicionar +1, já que o ultimo index não é normalmente pego\n",
    "    palavras_geradas = insere_letras(fatias)\n",
    "    palavras_geradas += del_letra(fatias)#adicionando essa parte para incluir del de caracteres\n",
    "    palavras_geradas += troca_letra(fatias)\n",
    "    palavras_geradas += inversor(fatias)\n",
    "    return palavras_geradas"
   ]
  },
  {
   "cell_type": "code",
   "execution_count": 89,
   "id": "720f5d2f",
   "metadata": {},
   "outputs": [
    {
     "name": "stdout",
     "output_type": "stream",
     "text": [
      " Palavras corrigidas:142\n",
      " Palavras não corrigidas:44\n",
      "Taxa de acerto 76.34%\n"
     ]
    },
    {
     "data": {
      "text/plain": [
       "[('ele', 'eme'),\n",
       " ('nos', 'noâ'),\n",
       " ('ter', 'teb'),\n",
       " ('bem', 'âem'),\n",
       " ('será', 'serr'),\n",
       " ('eu', 'eû'),\n",
       " ('já', 'jé'),\n",
       " ('das', 'dms'),\n",
       " ('cada', 'cava'),\n",
       " ('nossa', 'nossk'),\n",
       " ('eu', 'ìeu'),\n",
       " ('ela', 'qelay'),\n",
       " ('utilizar', 'dtilizacr'),\n",
       " ('projeto', 'bprojõto'),\n",
       " ('site', 'ysiteo'),\n",
       " ('sem', 'sõêm'),\n",
       " ('pelo', 'peàli'),\n",
       " ('alura', 'asuraó'),\n",
       " ('dia', 'deiìa'),\n",
       " ('tudo', 'tuĩdoì'),\n",
       " ('ela', 'eúaa'),\n",
       " ('utilizar', 'utilizẽaçr'),\n",
       " ('projeto', 'prêjetó'),\n",
       " ('site', 'sqiqte'),\n",
       " ('sem', 'sũexm'),\n",
       " ('pelo', 'pçlxo'),\n",
       " ('alura', 'uluraa'),\n",
       " ('dia', 'dĩaz'),\n",
       " ('tudo', 'kzudo'),\n",
       " ('empoderamento', 'ewpoderamento'),\n",
       " ('cavalo', 'cakvalo'),\n",
       " ('canela', 'canelac'),\n",
       " ('tênis', 'tênisy'),\n",
       " ('ansiosa', 'anciosa'),\n",
       " ('ansiosa', 'ancciosa'),\n",
       " ('ansiosa', 'ansioa'),\n",
       " ('empoderamento', 'empoderamento'),\n",
       " ('asterisco', 'asterístico'),\n",
       " ('entretido', 'entertido'),\n",
       " ('idiota', 'indiota'),\n",
       " ('tomara', 'tomare'),\n",
       " ('prevalecer', 'provalecer'),\n",
       " ('mendigo', 'mindigo'),\n",
       " ('perturbar', 'pertubar')]"
      ]
     },
     "execution_count": 89,
     "metadata": {},
     "output_type": "execute_result"
    }
   ],
   "source": [
    "avaliador(lista_teste)"
   ]
  },
  {
   "cell_type": "code",
   "execution_count": 95,
   "id": "0c03689f",
   "metadata": {},
   "outputs": [
    {
     "data": {
      "text/plain": [
       "'amostra'"
      ]
     },
     "execution_count": 95,
     "metadata": {},
     "output_type": "execute_result"
    }
   ],
   "source": [
    "corretor('armostra')"
   ]
  },
  {
   "cell_type": "markdown",
   "id": "746e1472",
   "metadata": {},
   "source": [
    "## Melhorou bastante, mas agora precisamos avaliar o vocabulário"
   ]
  },
  {
   "cell_type": "code",
   "execution_count": 100,
   "id": "ebb43e9e",
   "metadata": {},
   "outputs": [],
   "source": [
    "def avaliador(entrada,vocabulario):\n",
    "    maximo = len(entrada)\n",
    "    hits = 0\n",
    "    desconhecida =0\n",
    "    palavras_erradas = []\n",
    "    for certo,errado in entrada:\n",
    "        if certo == corretor(errado):\n",
    "            hits += 1\n",
    "        else:\n",
    "            desconhecida += (certo not in vocabulario)\n",
    "            palavras_erradas.append((certo,errado))\n",
    "        taxa = round(hits*100/maximo,2)\n",
    "        taxa_desconhecida = round(desconhecida*100/maximo,2)#adicionamos isso para descobrir se nosso vocablário esta fraco\n",
    "        erros = maximo - hits\n",
    "    print(f' Palavras corrigidas:{hits}')\n",
    "    print(f' Palavras não corrigidas:{maximo - hits}')\n",
    "    print(f'Taxa de acerto {taxa}%')\n",
    "    print(f'Taxa de palavras desconhecidas {taxa_desconhecida}%')\n",
    "    return(palavras_erradas)\n",
    "vocabulario = set(lista_normalizada)"
   ]
  },
  {
   "cell_type": "code",
   "execution_count": 101,
   "id": "a19b7010",
   "metadata": {},
   "outputs": [
    {
     "name": "stdout",
     "output_type": "stream",
     "text": [
      " Palavras corrigidas:142\n",
      " Palavras não corrigidas:44\n",
      "Taxa de acerto 76.34%\n",
      "Taxa de palavras desconhecidas 6.99%\n"
     ]
    },
    {
     "data": {
      "text/plain": [
       "[('ele', 'eme'),\n",
       " ('nos', 'noâ'),\n",
       " ('ter', 'teb'),\n",
       " ('bem', 'âem'),\n",
       " ('será', 'serr'),\n",
       " ('eu', 'eû'),\n",
       " ('já', 'jé'),\n",
       " ('das', 'dms'),\n",
       " ('cada', 'cava'),\n",
       " ('nossa', 'nossk'),\n",
       " ('eu', 'ìeu'),\n",
       " ('ela', 'qelay'),\n",
       " ('utilizar', 'dtilizacr'),\n",
       " ('projeto', 'bprojõto'),\n",
       " ('site', 'ysiteo'),\n",
       " ('sem', 'sõêm'),\n",
       " ('pelo', 'peàli'),\n",
       " ('alura', 'asuraó'),\n",
       " ('dia', 'deiìa'),\n",
       " ('tudo', 'tuĩdoì'),\n",
       " ('ela', 'eúaa'),\n",
       " ('utilizar', 'utilizẽaçr'),\n",
       " ('projeto', 'prêjetó'),\n",
       " ('site', 'sqiqte'),\n",
       " ('sem', 'sũexm'),\n",
       " ('pelo', 'pçlxo'),\n",
       " ('alura', 'uluraa'),\n",
       " ('dia', 'dĩaz'),\n",
       " ('tudo', 'kzudo'),\n",
       " ('empoderamento', 'ewpoderamento'),\n",
       " ('cavalo', 'cakvalo'),\n",
       " ('canela', 'canelac'),\n",
       " ('tênis', 'tênisy'),\n",
       " ('ansiosa', 'anciosa'),\n",
       " ('ansiosa', 'ancciosa'),\n",
       " ('ansiosa', 'ansioa'),\n",
       " ('empoderamento', 'empoderamento'),\n",
       " ('asterisco', 'asterístico'),\n",
       " ('entretido', 'entertido'),\n",
       " ('idiota', 'indiota'),\n",
       " ('tomara', 'tomare'),\n",
       " ('prevalecer', 'provalecer'),\n",
       " ('mendigo', 'mindigo'),\n",
       " ('perturbar', 'pertubar')]"
      ]
     },
     "execution_count": 101,
     "metadata": {},
     "output_type": "execute_result"
    }
   ],
   "source": [
    "avaliador(lista_teste,vocabulario)"
   ]
  },
  {
   "cell_type": "markdown",
   "id": "ec217878",
   "metadata": {},
   "source": [
    "## Precisamos agora cobrir os casos onde temos mudanças que não estão lado a lado"
   ]
  },
  {
   "cell_type": "code",
   "execution_count": 102,
   "id": "06df90f2",
   "metadata": {},
   "outputs": [],
   "source": [
    "def gerador_turbo(palavras_geradas):\n",
    "    novas_palavras = []\n",
    "    for palavra in palavras_geradas:\n",
    "        novas_palavras += gerador_palavras(palavra)\n",
    "    return(novas_palavras)"
   ]
  },
  {
   "cell_type": "code",
   "execution_count": 104,
   "id": "3d21341b",
   "metadata": {},
   "outputs": [
    {
     "data": {
      "text/plain": [
       "True"
      ]
     },
     "execution_count": 104,
     "metadata": {},
     "output_type": "execute_result"
    }
   ],
   "source": [
    "exemplo = 'lóiigica'\n",
    "result = gerador_turbo(gerador_palavras(exemplo))\n",
    "exemplo in result"
   ]
  },
  {
   "cell_type": "code",
   "execution_count": 105,
   "id": "fb4161a1",
   "metadata": {},
   "outputs": [
    {
     "data": {
      "text/plain": [
       "694980"
      ]
     },
     "execution_count": 105,
     "metadata": {},
     "output_type": "execute_result"
    }
   ],
   "source": [
    "len(result)"
   ]
  },
  {
   "cell_type": "code",
   "execution_count": null,
   "id": "d2bfb789",
   "metadata": {},
   "outputs": [],
   "source": []
  },
  {
   "cell_type": "code",
   "execution_count": 121,
   "id": "66052bc8",
   "metadata": {},
   "outputs": [],
   "source": [
    "def novo_corretor(palavra):\n",
    "    palavras_geradas = gerador_palavras(palavra)#trás a lista de possibilidades de fatiamento\n",
    "    palavras_turbo = gerador_turbo(palavras_geradas)\n",
    "    todas_palavras = set(palavras_geradas + palavras_turbo)#gerando lista com todas as palavras geradas\n",
    "    candidatos = [palavra]#iniciando lista em branco, isso permite também que ele mantenha uma palavra correta como correta\n",
    "    for palavra in todas_palavras:\n",
    "            if palavra in vocabulario:#comparamos nossa palavra com o vocabulário anteriormente definido, não gosto de deixar variável global aqui, mas paciência\n",
    "                candidatos.append(palavra)\n",
    "    palavra_correta = max(candidatos, key=prob)#escolhe a com maior probabilidade\n",
    "#    print(f'{len(candidatos)} candidatos a palavra correta')\n",
    "#    print(candidatos)\n",
    "    return palavra_correta#função max pega o maior valor baseado em uma lista dada, no caso a lista dada na função  gerador de palavras"
   ]
  },
  {
   "cell_type": "code",
   "execution_count": 122,
   "id": "6480e0e3",
   "metadata": {},
   "outputs": [
    {
     "data": {
      "text/plain": [
       "'lógica'"
      ]
     },
     "execution_count": 122,
     "metadata": {},
     "output_type": "execute_result"
    }
   ],
   "source": [
    "novo_corretor(exemplo)"
   ]
  },
  {
   "cell_type": "code",
   "execution_count": 129,
   "id": "323fbd83",
   "metadata": {},
   "outputs": [
    {
     "name": "stdout",
     "output_type": "stream",
     "text": [
      "testando novo corretor\n"
     ]
    }
   ],
   "source": [
    "print('testando novo corretor')\n",
    "def avaliador(entrada,vocabulario):\n",
    "    maximo = len(entrada)\n",
    "    hits = 0\n",
    "    desconhecida =0\n",
    "    palavras_erradas = []\n",
    "    for certo,errado in entrada:\n",
    "        desconhecida += (certo not in vocabulario)\n",
    "        if certo == novo_corretor(errado):\n",
    "            hits += 1\n",
    "        else:\n",
    "            palavras_erradas.append((certo,errado))\n",
    "        taxa = round(hits*100/maximo,2)\n",
    "        taxa_desconhecida = round(desconhecida*100/maximo,2)#adicionamos isso para descobrir se nosso vocablário esta fraco\n",
    "        erros = maximo - hits\n",
    "    print(f' Palavras corrigidas:{hits}')\n",
    "    print(f' Palavras não corrigidas:{maximo - hits}')\n",
    "    print(f'Taxa de acerto {taxa}%')\n",
    "    print(f'Taxa de palavras desconhecidas {taxa_desconhecida}%')\n",
    "    return(palavras_erradas)"
   ]
  },
  {
   "cell_type": "code",
   "execution_count": 130,
   "id": "89e42c44",
   "metadata": {},
   "outputs": [
    {
     "name": "stdout",
     "output_type": "stream",
     "text": [
      "testando novo corretor\n",
      " Palavras corrigidas:103\n",
      " Palavras não corrigidas:83\n",
      "Taxa de acerto 55.38%\n",
      "Taxa de palavras desconhecidas 6.99%\n",
      "done\n"
     ]
    }
   ],
   "source": [
    "print('testando novo corretor')\n",
    "avaliador(lista_teste,vocabulario)\n",
    "print('done')"
   ]
  },
  {
   "cell_type": "markdown",
   "id": "2813d9d7",
   "metadata": {},
   "source": [
    "#### O corretor piorou, interessante!, tendo em vista isso, iremos retornar a versão base, que tinha maior eficiência"
   ]
  },
  {
   "cell_type": "code",
   "execution_count": 134,
   "id": "bda014dd",
   "metadata": {},
   "outputs": [
    {
     "name": "stdout",
     "output_type": "stream",
     "text": [
      " Palavras corrigidas:103\n",
      " Palavras não corrigidas:83\n",
      "Taxa de acerto 55.38%\n",
      "Taxa de palavras desconhecidas 6.99%\n",
      "[('esse', 'esje'), ('são', 'sãêo'), ('dos', 'dosa'), ('ele', 'eme'), ('essa', 'eàssa'), ('das', 'daõs'), ('cada', 'céda'), ('nos', 'noâ'), ('então', 'enêão'), ('tem', 'tĩem'), ('nossa', 'nossah'), ('ter', 'teb'), ('até', 'atĩ'), ('bem', 'âem'), ('foi', 'foo'), ('será', 'serr'), ('entre', 'entke'), ('vai', 'van'), ('seus', 'çeus'), ('eu', 'eû'), ('tempo', 'temeo'), ('sempre', 'semre'), ('ela', 'elaá'), ('só', 'síó'), ('site', 'siàe'), ('sem', 'seém'), ('pelo', 'peln'), ('alura', 'aléra'), ('dia', 'tdia'), ('tudo', 'tuúo'), ('já', 'jé'), ('são', 'sãô'), ('dos', 'odos'), ('sua', 'siua'), ('ele', 'elpe'), ('temos', 'teos'), ('essa', 'eũsa'), ('vamos', 'vjmos'), ('das', 'dms'), ('cada', 'cava'), ('nos', 'ános'), ('caso', 'èaso'), ('tem', 'túem'), ('dados', 'daáos'), ('nossa', 'nossk'), ('ter', 'tãer'), ('até', 'vté'), ('bem', 'búm'), ('será', 'sçerá'), ('entre', 'entró'), ('vai', 'uai'), ('seus', 'sâus'), ('eu', 'ìeu'), ('qual', 'fual'), ('ela', 'elal'), ('só', 'skó'), ('sem', 'secm'), ('alura', 'aluéa'), ('dia', 'dil'), ('só', 'sód'), ('ela', 'eúaa'), ('só', 'ró'), ('dia', 'dĩaz'), ('corretor', 'correptor'), ('tática', 'trtica'), ('empoderamento', 'ewpoderamento'), ('gato', 'îgato'), ('cavalo', 'cakvalo'), ('canela', 'canelac'), ('tênis', 'tênisy'), ('ansiosa', 'anciosa'), ('ansiosa', 'ancciosa'), ('ansiosa', 'ansioa'), ('asterisco', 'asterístico'), ('entretido', 'entertido'), ('ritmo', 'ritimo'), ('idiota', 'indiota'), ('tomara', 'tomare'), ('seja', 'seje'), ('prevalecer', 'provalecer'), ('esteja', 'esteje'), ('mendigo', 'mindigo'), ('perturbar', 'pertubar')]\n"
     ]
    }
   ],
   "source": [
    "print(avaliador(lista_teste,vocabulario))"
   ]
  },
  {
   "cell_type": "code",
   "execution_count": 135,
   "id": "91a4a57d",
   "metadata": {},
   "outputs": [
    {
     "name": "stdout",
     "output_type": "stream",
     "text": [
      "testando novo corretor\n"
     ]
    }
   ],
   "source": [
    "print('testando novo corretor')\n",
    "def avaliador(entrada,vocabulario):\n",
    "    maximo = len(entrada)\n",
    "    hits = 0\n",
    "    desconhecida =0\n",
    "    palavras_erradas = []\n",
    "    for certo,errado in entrada:\n",
    "        desconhecida += (certo not in vocabulario)\n",
    "        if certo == corretor(errado):\n",
    "            hits += 1\n",
    "        else:\n",
    "            palavras_erradas.append((certo,errado))\n",
    "        taxa = round(hits*100/maximo,2)\n",
    "        taxa_desconhecida = round(desconhecida*100/maximo,2)#adicionamos isso para descobrir se nosso vocablário esta fraco\n",
    "        erros = maximo - hits\n",
    "    print(f' Palavras corrigidas:{hits}')\n",
    "    print(f' Palavras não corrigidas:{maximo - hits}')\n",
    "    print(f'Taxa de acerto {taxa}%')\n",
    "    print(f'Taxa de palavras desconhecidas {taxa_desconhecida}%')\n",
    "    return(palavras_erradas)"
   ]
  },
  {
   "cell_type": "code",
   "execution_count": 137,
   "id": "cebf9b46",
   "metadata": {},
   "outputs": [
    {
     "name": "stdout",
     "output_type": "stream",
     "text": [
      "lógica\n",
      "algiica\n"
     ]
    }
   ],
   "source": [
    "palavra = \"lgiica\"\n",
    "print(novo_corretor(palavra))\n",
    "print(corretor(palavra))"
   ]
  },
  {
   "cell_type": "code",
   "execution_count": null,
   "id": "efbfbbd3",
   "metadata": {},
   "outputs": [],
   "source": []
  }
 ],
 "metadata": {
  "kernelspec": {
   "display_name": "Python 3 (ipykernel)",
   "language": "python",
   "name": "python3"
  },
  "language_info": {
   "codemirror_mode": {
    "name": "ipython",
    "version": 3
   },
   "file_extension": ".py",
   "mimetype": "text/x-python",
   "name": "python",
   "nbconvert_exporter": "python",
   "pygments_lexer": "ipython3",
   "version": "3.9.12"
  }
 },
 "nbformat": 4,
 "nbformat_minor": 5
}
